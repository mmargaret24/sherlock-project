{
 "cells": [
  {
   "cell_type": "markdown",
   "id": "0a2584dd",
   "metadata": {},
   "source": [
    "# Using Sherlock out-of-the-box\n",
    "This notebook shows how to predict a semantic type for a given table column.\n",
    "The steps are basically:\n",
    "- Download files for word embedding and paragraph vector feature extraction (downloads only once) and initialize feature extraction models.\n",
    "- Extract features from table columns.\n",
    "- Initialize Sherlock.\n",
    "- Make a prediction for the feature representation of the column."
   ]
  },
  {
   "cell_type": "code",
   "execution_count": 1,
   "id": "86625d3e",
   "metadata": {},
   "outputs": [],
   "source": [
    "import numpy as np\n",
    "import pandas as pd\n",
    "import pyarrow as pa\n",
    "\n",
    "from sherlock import helpers\n",
    "from sherlock.deploy.model import SherlockModel\n",
    "from sherlock.functional import extract_features_to_csv\n",
    "from sherlock.features.paragraph_vectors import initialise_pretrained_model, initialise_nltk\n",
    "from sherlock.features.preprocessing import (\n",
    "    extract_features,\n",
    "    convert_string_lists_to_lists,\n",
    "    prepare_feature_extraction,\n",
    "    load_parquet_values,\n",
    ")\n",
    "from sherlock.features.word_embeddings import initialise_word_embeddings"
   ]
  },
  {
   "cell_type": "code",
   "execution_count": 2,
   "id": "dc6b1a90",
   "metadata": {},
   "outputs": [],
   "source": [
    "# %env PYTHONHASHSEED"
   ]
  },
  {
   "cell_type": "markdown",
   "id": "f1101303",
   "metadata": {},
   "source": [
    "## Initialize feature extraction models"
   ]
  },
  {
   "cell_type": "code",
   "execution_count": 3,
   "id": "e8682ce0",
   "metadata": {},
   "outputs": [
    {
     "name": "stdout",
     "output_type": "stream",
     "text": [
      "Preparing feature extraction by downloading 4 files:\n",
      "        \n",
      " ../sherlock/features/glove.6B.50d.txt, \n",
      " ../sherlock/features/par_vec_trained_400.pkl.docvecs.vectors_docs.npy,\n",
      "        \n",
      " ../sherlock/features/par_vec_trained_400.pkl.trainables.syn1neg.npy, and \n",
      " ../sherlock/features/par_vec_trained_400.pkl.wv.vectors.npy.\n",
      "        \n",
      "All files for extracting word and paragraph embeddings are present.\n",
      "Initialising word embeddings\n",
      "Initialise Word Embeddings process took 0:00:04.735138 seconds.\n",
      "Initialise Doc2Vec Model, 400 dim, process took 0:00:02.510114 seconds. (filename = ../sherlock/features/par_vec_trained_400.pkl)\n",
      "Initialised NLTK, process took 0:00:00.140245 seconds.\n"
     ]
    },
    {
     "name": "stderr",
     "output_type": "stream",
     "text": [
      "[nltk_data] Downloading package punkt to /Users/mmargaret/nltk_data...\n",
      "[nltk_data]   Package punkt is already up-to-date!\n",
      "[nltk_data] Downloading package stopwords to\n",
      "[nltk_data]     /Users/mmargaret/nltk_data...\n",
      "[nltk_data]   Package stopwords is already up-to-date!\n"
     ]
    }
   ],
   "source": [
    "prepare_feature_extraction()\n",
    "initialise_word_embeddings()\n",
    "initialise_pretrained_model(400)\n",
    "initialise_nltk()"
   ]
  },
  {
   "cell_type": "markdown",
   "id": "2b3b7967",
   "metadata": {},
   "source": [
    "## Extract features"
   ]
  },
  {
   "cell_type": "code",
   "execution_count": 4,
   "id": "e34d3d01",
   "metadata": {},
   "outputs": [],
   "source": [
    "semantics_df = pd.DataFrame(columns=['id', 'semantics'])\n",
    "semantics_dict = {} # {'id':,'semantics':}"
   ]
  },
  {
   "cell_type": "code",
   "execution_count": 5,
   "id": "5ba26aa7",
   "metadata": {},
   "outputs": [],
   "source": [
    "import os\n",
    "_ = os.listdir('/Users/mmargaret/Documents/[UVA] Thesis/sherlock-project/data/data_search_e_data_csv/')"
   ]
  },
  {
   "cell_type": "code",
   "execution_count": 6,
   "id": "bacb96ea",
   "metadata": {},
   "outputs": [
    {
     "data": {
      "text/plain": [
       "2919"
      ]
     },
     "execution_count": 6,
     "metadata": {},
     "output_type": "execute_result"
    }
   ],
   "source": [
    "file_list = [id for id in _ if '.csv' in id]\n",
    "len(file_list)"
   ]
  },
  {
   "cell_type": "code",
   "execution_count": 7,
   "id": "ac876f7d",
   "metadata": {},
   "outputs": [],
   "source": [
    "error_list=[]\n",
    "\n",
    "def extractIDSemanticsWithColumnNames(filename):\n",
    "    \n",
    "    IDSemanticsColumns = {'data_filename':filename, 'colSemantics': [], 'colNames':[]}\n",
    "    try:\n",
    "        # read files\n",
    "        a_doc = pd.read_csv('/Users/mmargaret/Documents/[UVA] Thesis/sherlock-project/data/data_search_e_data_csv/' \n",
    "                            + filename, engine='python')\n",
    "        a_doc = a_doc.astype(str) #only non-numeric object to str (sherlock required) = .select_dtypes(include=[object])\n",
    "        data = pd.Series(a_doc.transpose().values.tolist(),name=\"values\") #format it to list of values by columns\n",
    "\n",
    "        # sherlock extract features\n",
    "        extract_features(\"../temporary.csv\",data)\n",
    "        feature_vectors = pd.read_csv(\"../temporary.csv\", dtype=np.float32)\n",
    "\n",
    "        # sherlock init and predict with pre-trained model\n",
    "        model = SherlockModel();\n",
    "        model.initialize_model_from_json(with_weights=True, model_id=\"sherlock\");\n",
    "        predicted_labels = model.predict(feature_vectors, \"sherlock\")\n",
    "\n",
    "        # f_name = filename.split('.', 1)[0] #extract id from filename\n",
    "\n",
    "        # return dictionary with id: id of the doc, list of the columns' semantics, list of the columns' names\n",
    "        IDSemanticsColumns = {'data_filename':filename, 'colSemantics': list(predicted_labels), 'colNames':list(a_doc.columns)}\n",
    "    \n",
    "    except:\n",
    "        print('Unable to extract: {}'.format(filename))\n",
    "        global error_list\n",
    "        error_list += [filename]\n",
    "        \n",
    "    return IDSemanticsColumns"
   ]
  },
  {
   "cell_type": "code",
   "execution_count": 8,
   "id": "8bccb8f3",
   "metadata": {},
   "outputs": [
    {
     "name": "stdout",
     "output_type": "stream",
     "text": [
      "d2d297eb8b86aa49d40226d4efdb1729515655656dece7bd80b01c6ddabb2b83.text.csv\n",
      "Unable to extract: d2d297eb8b86aa49d40226d4efdb1729515655656dece7bd80b01c6ddabb2b83.text.csv\n",
      "{'data_filename': 'd2d297eb8b86aa49d40226d4efdb1729515655656dece7bd80b01c6ddabb2b83.text.csv', 'colSemantics': [], 'colNames': []}\n"
     ]
    },
    {
     "data": {
      "text/plain": [
       "['d2d297eb8b86aa49d40226d4efdb1729515655656dece7bd80b01c6ddabb2b83.text.csv']"
      ]
     },
     "execution_count": 8,
     "metadata": {},
     "output_type": "execute_result"
    }
   ],
   "source": [
    "# TEST function\n",
    "print(file_list[0])\n",
    "print(extractIDSemanticsWithColumnNames(file_list[0]))\n",
    "error_list\n"
   ]
  },
  {
   "cell_type": "code",
   "execution_count": null,
   "id": "d22ff0bc",
   "metadata": {},
   "outputs": [
    {
     "name": "stderr",
     "output_type": "stream",
     "text": [
      "\r",
      "Extracting Features:   0%|                               | 0/25 [00:00<?, ?it/s]"
     ]
    },
    {
     "name": "stdout",
     "output_type": "stream",
     "text": [
      "Unable to extract: d2d297eb8b86aa49d40226d4efdb1729515655656dece7bd80b01c6ddabb2b83.text.csv\n"
     ]
    },
    {
     "name": "stderr",
     "output_type": "stream",
     "text": [
      "Extracting Features:  12%|██▊                    | 3/25 [00:00<00:04,  4.53it/s]"
     ]
    },
    {
     "name": "stdout",
     "output_type": "stream",
     "text": [
      "Exporting 1588 column features\n"
     ]
    },
    {
     "name": "stderr",
     "output_type": "stream",
     "text": [
      "Extracting Features: 100%|██████████████████████| 25/25 [00:01<00:00, 15.83it/s]\n",
      "WARNING: Logging before flag parsing goes to stderr.\n",
      "W0531 19:43:19.632974 4553154048 deprecation.py:506] From /Users/mmargaret/opt/anaconda3/envs/py37/lib/python3.7/site-packages/tensorflow_core/python/ops/init_ops.py:97: calling Zeros.__init__ (from tensorflow.python.ops.init_ops) with dtype is deprecated and will be removed in a future version.\n",
      "Instructions for updating:\n",
      "Call initializer instance with the dtype argument instead of passing it to the constructor\n",
      "W0531 19:43:19.634391 4553154048 deprecation.py:506] From /Users/mmargaret/opt/anaconda3/envs/py37/lib/python3.7/site-packages/tensorflow_core/python/ops/init_ops.py:97: calling Ones.__init__ (from tensorflow.python.ops.init_ops) with dtype is deprecated and will be removed in a future version.\n",
      "Instructions for updating:\n",
      "Call initializer instance with the dtype argument instead of passing it to the constructor\n",
      "W0531 19:43:19.637321 4553154048 deprecation.py:506] From /Users/mmargaret/opt/anaconda3/envs/py37/lib/python3.7/site-packages/tensorflow_core/python/ops/init_ops.py:97: calling VarianceScaling.__init__ (from tensorflow.python.ops.init_ops) with dtype is deprecated and will be removed in a future version.\n",
      "Instructions for updating:\n",
      "Call initializer instance with the dtype argument instead of passing it to the constructor\n",
      "W0531 19:43:19.652036 4553154048 deprecation.py:506] From /Users/mmargaret/opt/anaconda3/envs/py37/lib/python3.7/site-packages/tensorflow_core/python/ops/resource_variable_ops.py:1630: calling BaseResourceVariable.__init__ (from tensorflow.python.ops.resource_variable_ops) with constraint is deprecated and will be removed in a future version.\n",
      "Instructions for updating:\n",
      "If using Keras pass *_constraint arguments to layers.\n",
      "Extracting Features: 100%|███████████████████████| 6/6 [00:00<00:00, 101.96it/s]"
     ]
    },
    {
     "name": "stdout",
     "output_type": "stream",
     "text": [
      "Unable to extract: 30582267f36c39a6ff33b0e38787eaa72f9ad84192498830816d3d2bf5b2e73b.text.csv\n",
      "Exporting 1588 column features\n"
     ]
    },
    {
     "name": "stderr",
     "output_type": "stream",
     "text": [
      "\n",
      "Extracting Features: 100%|███████████████████████| 6/6 [00:00<00:00, 357.14it/s]"
     ]
    },
    {
     "name": "stdout",
     "output_type": "stream",
     "text": [
      "Unable to extract: 70abcec885ec57461c9197faad068e8c9d8b838e979b1d0e7c41aed6585145d4.text.csv\n",
      "Unable to extract: 29c42fa751d277febbd914e65741513f63166637f9f18f824f685b4b2183dd21.text.csv\n",
      "Exporting 1588 column features\n"
     ]
    },
    {
     "name": "stderr",
     "output_type": "stream",
     "text": [
      "\n",
      "Extracting Features:   0%|                                | 0/9 [00:00<?, ?it/s]"
     ]
    },
    {
     "name": "stdout",
     "output_type": "stream",
     "text": [
      "Unable to extract: 7230b684e09f6cf9bbf14a0d3c516220fdf10cce42133e52b84d4917b6c90722.text.csv\n"
     ]
    },
    {
     "name": "stderr",
     "output_type": "stream",
     "text": [
      "\r",
      "Extracting Features:  11%|██▋                     | 1/9 [00:00<00:03,  2.38it/s]"
     ]
    },
    {
     "name": "stdout",
     "output_type": "stream",
     "text": [
      "Exporting 1588 column features\n"
     ]
    },
    {
     "name": "stderr",
     "output_type": "stream",
     "text": [
      "Extracting Features: 100%|████████████████████████| 9/9 [00:02<00:00,  3.74it/s]\n",
      "Extracting Features: 100%|███████████████████████| 6/6 [00:00<00:00, 125.52it/s]"
     ]
    },
    {
     "name": "stdout",
     "output_type": "stream",
     "text": [
      "Unable to extract: 22c965441bffe87f7764917d54bb9f75c11597e941e5acc7bd528f550b8dfdfe.text.csv\n",
      "Exporting 1588 column features\n"
     ]
    },
    {
     "name": "stderr",
     "output_type": "stream",
     "text": [
      "\n",
      "Extracting Features:   0%|                               | 0/69 [00:00<?, ?it/s]"
     ]
    },
    {
     "name": "stdout",
     "output_type": "stream",
     "text": [
      "Unable to extract: 2bb5fbd450b4ab1a98faf40c63db6b40173fbdc7fd5d5186b4e9a33c257ed47f.text.csv\n"
     ]
    },
    {
     "name": "stderr",
     "output_type": "stream",
     "text": [
      "Extracting Features:   6%|█▎                     | 4/69 [00:00<00:13,  4.95it/s]"
     ]
    },
    {
     "name": "stdout",
     "output_type": "stream",
     "text": [
      "Exporting 1588 column features\n"
     ]
    },
    {
     "name": "stderr",
     "output_type": "stream",
     "text": [
      "Extracting Features:   9%|██                     | 6/69 [00:00<00:06,  9.68it/s]\n",
      "Extracting Features: 100%|█████████████████████| 14/14 [00:00<00:00, 363.37it/s]\n"
     ]
    },
    {
     "name": "stdout",
     "output_type": "stream",
     "text": [
      "Unable to extract: 442a711c91559f460c4e073aee07cb410da7fb23c992a3115b8f4024d217887c.text.csv\n",
      "Exporting 1588 column features\n"
     ]
    },
    {
     "name": "stderr",
     "output_type": "stream",
     "text": [
      "Extracting Features: 100%|███████████████████████| 7/7 [00:00<00:00, 213.11it/s]"
     ]
    },
    {
     "name": "stdout",
     "output_type": "stream",
     "text": [
      "Unable to extract: a96c688fdcf075de565d3b14cb53f63dddc87b040adc4dcbcb95154d7eba2130.text.csv\n",
      "Exporting 1588 column features\n"
     ]
    },
    {
     "name": "stderr",
     "output_type": "stream",
     "text": [
      "\n",
      "Extracting Features: 100%|█████████████████████| 33/33 [00:00<00:00, 209.94it/s]"
     ]
    },
    {
     "name": "stdout",
     "output_type": "stream",
     "text": [
      "Unable to extract: c2f12902a5a503da355be2f9945e43593d7d32ef8377f2282d872131688430e0.text.csv\n",
      "Exporting 1588 column features\n"
     ]
    },
    {
     "name": "stderr",
     "output_type": "stream",
     "text": [
      "\n"
     ]
    },
    {
     "name": "stdout",
     "output_type": "stream",
     "text": [
      "Unable to extract: d5f4bce119b1659e0945cae61941030e4b74ab013a48be43bd3db00ae365b00b.text.csv\n"
     ]
    },
    {
     "name": "stderr",
     "output_type": "stream",
     "text": [
      "Extracting Features:   7%|█▋                     | 1/14 [00:00<00:03,  3.68it/s]"
     ]
    },
    {
     "name": "stdout",
     "output_type": "stream",
     "text": [
      "Exporting 1588 column features\n"
     ]
    },
    {
     "name": "stderr",
     "output_type": "stream",
     "text": [
      "Extracting Features:  29%|██████▌                | 4/14 [00:00<00:01,  6.26it/s]\n",
      "Extracting Features:   0%|                                | 0/9 [00:00<?, ?it/s]"
     ]
    },
    {
     "name": "stdout",
     "output_type": "stream",
     "text": [
      "Unable to extract: d36f2ae13705ee30fb25ac9c8d3a6dae6166eefe16535e2b0cc3d829822047a4.text.csv\n",
      "Exporting 1588 column features\n"
     ]
    },
    {
     "name": "stderr",
     "output_type": "stream",
     "text": [
      "Extracting Features:  56%|█████████████▎          | 5/9 [00:00<00:00, 10.81it/s]\n",
      "Extracting Features:   0%|                                | 0/4 [00:00<?, ?it/s]\n"
     ]
    },
    {
     "name": "stdout",
     "output_type": "stream",
     "text": [
      "Unable to extract: 0993f49c9f27e3a917c9832f17e481b404a8375b753c14d9d203f05d3251e172.text.csv\n",
      "Unable to extract: ac8c5934ebfc1e76cce230bbfaa5699b26bdcea174e903d9124ac31f372984ee.text.csv\n"
     ]
    },
    {
     "name": "stderr",
     "output_type": "stream",
     "text": [
      "Extracting Features: 100%|█████████████████████| 14/14 [00:00<00:00, 369.88it/s]\n",
      "Extracting Features:   0%|                               | 0/12 [00:00<?, ?it/s]"
     ]
    },
    {
     "name": "stdout",
     "output_type": "stream",
     "text": [
      "Exporting 1588 column features\n",
      "Unable to extract: 7a243b2d586bb94b73d5f3f24ea816f29aeb9d2280432593cb8ac8fec390a5ae.text.csv\n"
     ]
    },
    {
     "name": "stderr",
     "output_type": "stream",
     "text": [
      "Extracting Features:   0%|                               | 0/12 [00:00<?, ?it/s]\n",
      "Extracting Features:   0%|                               | 0/35 [00:00<?, ?it/s]\n"
     ]
    },
    {
     "name": "stdout",
     "output_type": "stream",
     "text": [
      "Unable to extract: 0c816e0b45afc00a4f66feef9442171e811635c7fed1c4d2c284b7b0518dc11c.text.csv\n",
      "Unable to extract: 4718778a55e011dc9290b87f01515fc5818f67cbb7a79d209f27c742cfd99ccc.text.csv\n"
     ]
    },
    {
     "name": "stderr",
     "output_type": "stream",
     "text": [
      "Extracting Features: 100%|████████████████████████| 1/1 [00:00<00:00,  7.89it/s]\n"
     ]
    },
    {
     "name": "stdout",
     "output_type": "stream",
     "text": [
      "Exporting 1588 column features\n",
      "Unable to extract: 6ae4eafa06f6e67843b0ff09cc5b4ca62ad61d2b1dc0feb5ceb5268a04f20680.text.csv\n"
     ]
    },
    {
     "name": "stderr",
     "output_type": "stream",
     "text": [
      "Extracting Features: 100%|███████████████████████| 3/3 [00:00<00:00, 178.88it/s]"
     ]
    },
    {
     "name": "stdout",
     "output_type": "stream",
     "text": [
      "Unable to extract: 8f6314940d335741ff381c5eea2a50285f7576a5ae47f3d3722a774bc89ad2a7.text.csv\n",
      "Exporting 1588 column features\n"
     ]
    },
    {
     "name": "stderr",
     "output_type": "stream",
     "text": [
      "\n",
      "Extracting Features: 100%|████████████████████████| 4/4 [00:00<00:00, 86.19it/s]"
     ]
    },
    {
     "name": "stdout",
     "output_type": "stream",
     "text": [
      "Unable to extract: 5d3f6b1e8b6f248c6d7a6c88c1938d64e40d46260be5ff4611ee86e235d892a8.text.csv\n",
      "Exporting 1588 column features\n"
     ]
    },
    {
     "name": "stderr",
     "output_type": "stream",
     "text": [
      "\n",
      "Extracting Features: 100%|███████████████████████| 3/3 [00:00<00:00, 122.81it/s]"
     ]
    },
    {
     "name": "stdout",
     "output_type": "stream",
     "text": [
      "Unable to extract: e7e51494eb42ae9824a22678e1c3b3595e243780fcb160b4c4e2eda12874d842.text.csv\n",
      "Exporting 1588 column features\n"
     ]
    },
    {
     "name": "stderr",
     "output_type": "stream",
     "text": [
      "\n",
      "Extracting Features:   0%|                               | 0/96 [00:00<?, ?it/s]"
     ]
    },
    {
     "name": "stdout",
     "output_type": "stream",
     "text": [
      "Unable to extract: fb63780cc9727b9fc7d5feb604c5d321741025f9fede1d455d489bca2eaed7b8.text.csv\n"
     ]
    },
    {
     "name": "stderr",
     "output_type": "stream",
     "text": [
      "Extracting Features:  20%|████▎                 | 19/96 [00:01<01:18,  1.01s/it]"
     ]
    },
    {
     "name": "stdout",
     "output_type": "stream",
     "text": [
      "Exporting 1588 column features\n"
     ]
    },
    {
     "name": "stderr",
     "output_type": "stream",
     "text": [
      "Extracting Features: 100%|██████████████████████| 96/96 [00:01<00:00, 49.34it/s]\n",
      "Extracting Features: 100%|███████████████████████| 9/9 [00:00<00:00, 240.26it/s]"
     ]
    },
    {
     "name": "stdout",
     "output_type": "stream",
     "text": [
      "Unable to extract: 5820225f00d0233715e1149f961458563e1ef95539e1eb65cab484b79c44626f.text.csv\n",
      "Exporting 1588 column features\n"
     ]
    },
    {
     "name": "stderr",
     "output_type": "stream",
     "text": [
      "\n",
      "Extracting Features: 100%|█████████████████████| 10/10 [00:00<00:00, 214.20it/s]"
     ]
    },
    {
     "name": "stdout",
     "output_type": "stream",
     "text": [
      "Unable to extract: 9af8b03063a09d97600f173c8f3f61dfed3d4c768b80595ced6cc9ed672688fb.text.csv\n",
      "Exporting 1588 column features\n"
     ]
    },
    {
     "name": "stderr",
     "output_type": "stream",
     "text": [
      "\n",
      "Extracting Features:   0%|                                | 0/4 [00:00<?, ?it/s]"
     ]
    },
    {
     "name": "stdout",
     "output_type": "stream",
     "text": [
      "Unable to extract: 9b26dfe822f979ac40f1eb0900aa5b1763fe14bd984a5f0f17142f92a97328f2.text.csv\n"
     ]
    },
    {
     "name": "stderr",
     "output_type": "stream",
     "text": [
      "Extracting Features: 100%|████████████████████████| 4/4 [00:00<00:00, 10.91it/s]"
     ]
    },
    {
     "name": "stdout",
     "output_type": "stream",
     "text": [
      "Exporting 1588 column features\n"
     ]
    },
    {
     "name": "stderr",
     "output_type": "stream",
     "text": [
      "\n"
     ]
    },
    {
     "name": "stdout",
     "output_type": "stream",
     "text": [
      "Unable to extract: e6da782dc62ae774e81c6552db328cab163adeb5a510d71d1cbed9ea046421c7.text.csv\n",
      "Unable to extract: 7288270f213af2d7b4b7fc3effe7b3bafd21f1f587f64aeaeee3563228c647e8.text.csv\n"
     ]
    },
    {
     "name": "stderr",
     "output_type": "stream",
     "text": [
      "Extracting Features:  57%|█████████████▋          | 4/7 [00:00<00:00, 17.42it/s]"
     ]
    },
    {
     "name": "stdout",
     "output_type": "stream",
     "text": [
      "Exporting 1588 column features\n"
     ]
    },
    {
     "name": "stderr",
     "output_type": "stream",
     "text": [
      "Extracting Features: 100%|████████████████████████| 7/7 [00:00<00:00, 18.60it/s]\n",
      "Extracting Features: 100%|███████████████████████| 2/2 [00:00<00:00, 322.59it/s]"
     ]
    },
    {
     "name": "stdout",
     "output_type": "stream",
     "text": [
      "Unable to extract: caa36bcf19b4e25b6d531c0257208d25284876eb360ac0c27110740810d3adb1.text.csv\n",
      "Exporting 1588 column features\n"
     ]
    },
    {
     "name": "stderr",
     "output_type": "stream",
     "text": [
      "\n",
      "Extracting Features:   0%|                               | 0/10 [00:00<?, ?it/s]"
     ]
    },
    {
     "name": "stdout",
     "output_type": "stream",
     "text": [
      "Unable to extract: 1abc8fda3218c9789a4bc6de184f87f1007ddae93ae1e9294799095200738ddd.text.csv\n",
      "Exporting 1588 column features\n"
     ]
    },
    {
     "name": "stderr",
     "output_type": "stream",
     "text": [
      "Extracting Features: 100%|██████████████████████| 10/10 [00:00<00:00, 15.10it/s]\n",
      "Extracting Features: 100%|█████████████████████| 14/14 [00:00<00:00, 161.74it/s]"
     ]
    },
    {
     "name": "stdout",
     "output_type": "stream",
     "text": [
      "Unable to extract: 63a10b25f1c635bb7f7b53e63c4cd034f79a56fb9a628d9098a6d376f3197f3e.text.csv\n",
      "Exporting 1588 column features\n"
     ]
    },
    {
     "name": "stderr",
     "output_type": "stream",
     "text": [
      "\n"
     ]
    },
    {
     "name": "stdout",
     "output_type": "stream",
     "text": [
      "Unable to extract: fb1ed87ba1640875330d205ab36ca74174b49dca59cdadf6726f5209eef7f10d.text.csv\n"
     ]
    },
    {
     "name": "stderr",
     "output_type": "stream",
     "text": [
      "Extracting Features:  50%|████████████            | 2/4 [00:00<00:00, 17.31it/s]"
     ]
    },
    {
     "name": "stdout",
     "output_type": "stream",
     "text": [
      "Unable to extract: 23f37ac7680748dc5ad81b9eb4b927caa399cd7b81c7eeb707f11ecc7afb618a.text.csv\n",
      "Exporting 1588 column features\n",
      "Unable to extract: 206fc590dddc4133d8d9303550a77dee56c6d97fda35d3fb7b779f59d1c7386b.text.csv\n"
     ]
    },
    {
     "name": "stderr",
     "output_type": "stream",
     "text": [
      "\n",
      "Extracting Features: 100%|███████████████████████| 7/7 [00:00<00:00, 164.25it/s]"
     ]
    },
    {
     "name": "stdout",
     "output_type": "stream",
     "text": [
      "Unable to extract: b24e9f72b71288b13a1aed52af308ae200f862d51dd4f98cdf5defebb3f3e8f9.text.csv\n",
      "Exporting 1588 column features\n",
      "Unable to extract: 811df87aaeb5bd45879cc11f440a02eed01d4bd9777e5798ebb7d432e5ac622c.text.csv\n"
     ]
    },
    {
     "name": "stderr",
     "output_type": "stream",
     "text": [
      "\n",
      "Extracting Features:   0%|                               | 0/25 [00:00<?, ?it/s]"
     ]
    },
    {
     "name": "stdout",
     "output_type": "stream",
     "text": [
      "Unable to extract: 6ea32ea04581a4f5ed882bfd3a5f7978933768a56c3105c9a6cf70007f10cf4a.text.csv\n",
      "Unable to extract: 82015e9c70396f9542b02c0e3535237147d9b22b295d62577cbdee4f04676e5b.text.csv\n"
     ]
    },
    {
     "name": "stderr",
     "output_type": "stream",
     "text": [
      "\n",
      "Extracting Features:  10%|██▎                    | 3/30 [00:00<00:02, 10.16it/s]"
     ]
    },
    {
     "name": "stdout",
     "output_type": "stream",
     "text": [
      "Exporting 1588 column features\n"
     ]
    },
    {
     "name": "stderr",
     "output_type": "stream",
     "text": [
      "Extracting Features: 100%|██████████████████████| 30/30 [00:01<00:00, 21.18it/s]\n",
      "Extracting Features: 100%|███████████████████████| 7/7 [00:00<00:00, 396.83it/s]"
     ]
    },
    {
     "name": "stdout",
     "output_type": "stream",
     "text": [
      "Unable to extract: 92269957851ee13ea06fcd1866bd8e3810dec64dabb72c1b76b04a00227e5bdf.text.csv\n",
      "Exporting 1588 column features\n"
     ]
    },
    {
     "name": "stderr",
     "output_type": "stream",
     "text": [
      "\n"
     ]
    },
    {
     "name": "stdout",
     "output_type": "stream",
     "text": [
      "Unable to extract: 046c3561b610ab29de866f59abb248ecf1a32fc190647c5d456784bd06d36018.text.csv\n"
     ]
    },
    {
     "name": "stderr",
     "output_type": "stream",
     "text": [
      "\r",
      "Extracting Features:   0%|                               | 0/20 [00:00<?, ?it/s]"
     ]
    },
    {
     "name": "stdout",
     "output_type": "stream",
     "text": [
      "Exporting 1588 column features\n"
     ]
    },
    {
     "name": "stderr",
     "output_type": "stream",
     "text": [
      "Extracting Features:   5%|█▏                     | 1/20 [00:00<00:05,  3.69it/s]\n",
      "Extracting Features:  25%|█████▍                | 13/53 [00:00<00:00, 86.09it/s]\n",
      "Extracting Features:   0%|                                | 0/8 [00:00<?, ?it/s]"
     ]
    },
    {
     "name": "stdout",
     "output_type": "stream",
     "text": [
      "Unable to extract: 8e6bc5f33b07fb32f22124d9dcdd146ad03010e17a22bc0299eec7f9cfee64d1.text.csv\n",
      "Exporting 1588 column features\n",
      "Unable to extract: 9fc89f77d3e83a03444625bd36002db2fc72fcceed7c861f8f3727a0c8688683.text.csv\n",
      "Exporting 1588 column features\n"
     ]
    },
    {
     "name": "stderr",
     "output_type": "stream",
     "text": [
      "Extracting Features: 100%|███████████████████████| 8/8 [00:00<00:00, 148.65it/s]\n",
      "Extracting Features: 100%|██████████████████████| 10/10 [00:00<00:00, 54.51it/s]"
     ]
    },
    {
     "name": "stdout",
     "output_type": "stream",
     "text": [
      "Unable to extract: ef2cb21c95c405f20744a83e13bac00cccc72360a80b384c1f2f36d3efdbb7ee.text.csv\n",
      "Exporting 1588 column features\n"
     ]
    },
    {
     "name": "stderr",
     "output_type": "stream",
     "text": [
      "\n",
      "Extracting Features: 100%|███████████████████████| 3/3 [00:00<00:00, 382.08it/s]"
     ]
    },
    {
     "name": "stdout",
     "output_type": "stream",
     "text": [
      "Unable to extract: a53cb95133c6dc5b80321fd5357a2cd9541a926f2e2afc491cc3ae4d817d218b.text.csv\n",
      "Exporting 1588 column features\n"
     ]
    },
    {
     "name": "stderr",
     "output_type": "stream",
     "text": [
      "\n",
      "Extracting Features: 100%|███████████████████████| 2/2 [00:00<00:00, 361.59it/s]"
     ]
    },
    {
     "name": "stdout",
     "output_type": "stream",
     "text": [
      "Unable to extract: 4d0c44d79da8fad3ddb056b6cba07a95fa1f98fa7d0bc57c69fb264b7f4aa03a.text.csv\n",
      "Exporting 1588 column features\n"
     ]
    },
    {
     "name": "stderr",
     "output_type": "stream",
     "text": [
      "\n"
     ]
    },
    {
     "name": "stdout",
     "output_type": "stream",
     "text": [
      "Unable to extract: 491166bcbe9f3c4a759b10f2959cc83339f3b4934229375bad39c2d2a927814e.text.csv\n"
     ]
    },
    {
     "name": "stderr",
     "output_type": "stream",
     "text": [
      "Extracting Features:   8%|█▊                     | 3/37 [00:00<00:01, 24.96it/s]"
     ]
    },
    {
     "name": "stdout",
     "output_type": "stream",
     "text": [
      "Exporting 1588 column features\n"
     ]
    },
    {
     "name": "stderr",
     "output_type": "stream",
     "text": [
      "Extracting Features: 100%|██████████████████████| 37/37 [00:02<00:00, 16.60it/s]\n",
      "Extracting Features:   0%|                               | 0/30 [00:00<?, ?it/s]"
     ]
    },
    {
     "name": "stdout",
     "output_type": "stream",
     "text": [
      "Unable to extract: b21ee5232a742fed0e6c86562df0de855f33a1eb91b0d423721f5680bb8b19d9.text.csv\n"
     ]
    },
    {
     "name": "stderr",
     "output_type": "stream",
     "text": [
      "Extracting Features:   7%|█▌                     | 2/30 [00:00<00:02, 11.38it/s]\n"
     ]
    },
    {
     "name": "stdout",
     "output_type": "stream",
     "text": [
      "Exporting 1588 column features\n",
      "Unable to extract: b6ac31c0d03c198c7daa8749554cbd61569e59410c43d94c56dd4e5e4f827768.text.csv\n"
     ]
    },
    {
     "name": "stderr",
     "output_type": "stream",
     "text": [
      "Extracting Features:   5%|█▏                     | 2/37 [00:00<00:02, 14.41it/s]"
     ]
    },
    {
     "name": "stdout",
     "output_type": "stream",
     "text": [
      "Exporting 1588 column features\n"
     ]
    },
    {
     "name": "stderr",
     "output_type": "stream",
     "text": [
      "Extracting Features:  41%|████████▉             | 15/37 [00:01<00:02, 10.77it/s]\n",
      "Extracting Features: 100%|█████████████████████| 14/14 [00:00<00:00, 387.24it/s]\n"
     ]
    },
    {
     "name": "stdout",
     "output_type": "stream",
     "text": [
      "Unable to extract: 028aff3fcd2f9e431b8ece923abae0cc883c84615ac56bd0865798e14f9ed67c.text.csv\n",
      "Exporting 1588 column features\n",
      "Unable to extract: b27db5b9a9d0705c6cd31418f15095d9f27669f431b8b18748b4daab99d3204b.text.csv\n"
     ]
    },
    {
     "name": "stderr",
     "output_type": "stream",
     "text": [
      "Extracting Features:  22%|█████▎                  | 2/9 [00:00<00:00, 14.09it/s]"
     ]
    },
    {
     "name": "stdout",
     "output_type": "stream",
     "text": [
      "Exporting 1588 column features\n"
     ]
    },
    {
     "name": "stderr",
     "output_type": "stream",
     "text": [
      "Extracting Features: 100%|████████████████████████| 9/9 [00:00<00:00, 13.42it/s]\n",
      "Extracting Features:   0%|                               | 0/12 [00:00<?, ?it/s]"
     ]
    },
    {
     "name": "stdout",
     "output_type": "stream",
     "text": [
      "Unable to extract: 2d243ad457a1814de7c7c1556b7e91fac080988ee92f816f9d52deb7d6e555af.text.csv\n",
      "Exporting 1588 column features\n"
     ]
    },
    {
     "name": "stderr",
     "output_type": "stream",
     "text": [
      "Extracting Features: 100%|██████████████████████| 12/12 [00:00<00:00, 16.19it/s]\n",
      "Extracting Features: 100%|███████████████████████| 3/3 [00:00<00:00, 138.20it/s]"
     ]
    },
    {
     "name": "stdout",
     "output_type": "stream",
     "text": [
      "Unable to extract: 33a29a7736867b93e5d6b53ff13d0ecbea274f42faeeca1c40a4d3c3ca5daf50.text.csv\n",
      "Unable to extract: 131996a5027d1809789f1b20749c40d158883a4d4f242e568fbc1aa9ae2deffe.text.csv\n",
      "Exporting 1588 column features\n"
     ]
    },
    {
     "name": "stderr",
     "output_type": "stream",
     "text": [
      "\n",
      "Extracting Features:  14%|███▎                   | 3/21 [00:00<00:00, 21.95it/s]"
     ]
    },
    {
     "name": "stdout",
     "output_type": "stream",
     "text": [
      "Unable to extract: eb93a7285703e877412418ea5108d3bc8aebd085c16cdecde9d30ef04b513286.text.csv\n",
      "Exporting 1588 column features\n"
     ]
    },
    {
     "name": "stderr",
     "output_type": "stream",
     "text": [
      "Extracting Features: 100%|██████████████████████| 21/21 [00:00<00:00, 24.82it/s]\n"
     ]
    }
   ],
   "source": [
    "enrich_list = []\n",
    "\n",
    "for i in range(0, len(file_list)):\n",
    "    \n",
    "    enrich_list += [extractIDSemanticsWithColumnNames(file_list[i])]\n",
    "    if i%25==0:\n",
    "        pd.DataFrame(enrich_list, \n",
    "             columns=['data_filename', 'colSemantics', 'colNames']).to_csv('/Users/mmargaret/Documents/[UVA] Thesis/sherlock-project/output/' \n",
    "                                                                            +'enriched_part.csv', index=False)\n",
    "error_list"
   ]
  },
  {
   "cell_type": "code",
   "execution_count": null,
   "id": "ad6a1153",
   "metadata": {},
   "outputs": [],
   "source": [
    "pd.DataFrame(enrich_list, \n",
    "             columns=['data_filename', 'colSemantics', 'colNames']).to_csv('/Users/mmargaret/Documents/[UVA] Thesis/sherlock-project/output/' \n",
    "                                                                            +'enriched_all.csv', index=False)\n"
   ]
  },
  {
   "cell_type": "code",
   "execution_count": null,
   "id": "1dd77f9d",
   "metadata": {},
   "outputs": [],
   "source": [
    "error_list"
   ]
  },
  {
   "cell_type": "markdown",
   "id": "ff1da67d",
   "metadata": {},
   "source": [
    "# TEST in interactive mode"
   ]
  },
  {
   "cell_type": "code",
   "execution_count": 9,
   "id": "591bea1e",
   "metadata": {},
   "outputs": [
    {
     "name": "stderr",
     "output_type": "stream",
     "text": [
      "/Users/mmargaret/opt/anaconda3/envs/py37/lib/python3.7/site-packages/dask/dataframe/utils.py:13: FutureWarning: pandas.util.testing is deprecated. Use the functions in the public API at pandas.testing instead.\n",
      "  import pandas.util.testing as tm\n"
     ]
    },
    {
     "ename": "FileNotFoundError",
     "evalue": "[Errno 2] No such file or directory: '/Users/mmargaret/Documents/[UVA] Thesis/sherlock-project/data/8b73c4243284ca0c84c45401f2e5a008d65f291466f4661483b432741c0a1836.text.csv'",
     "output_type": "error",
     "traceback": [
      "\u001b[0;31m---------------------------------------------------------------------------\u001b[0m",
      "\u001b[0;31mFileNotFoundError\u001b[0m                         Traceback (most recent call last)",
      "\u001b[0;32m/var/folders/4j/b74xw8zn3_9dq5pwdxr7vtlr0000gn/T/ipykernel_4114/2863110618.py\u001b[0m in \u001b[0;36m<module>\u001b[0;34m\u001b[0m\n\u001b[1;32m      1\u001b[0m \u001b[0mfilename\u001b[0m \u001b[0;34m=\u001b[0m \u001b[0;34m'8b73c4243284ca0c84c45401f2e5a008d65f291466f4661483b432741c0a1836.text.csv'\u001b[0m\u001b[0;34m\u001b[0m\u001b[0;34m\u001b[0m\u001b[0m\n\u001b[0;32m----> 2\u001b[0;31m \u001b[0ma_doc\u001b[0m \u001b[0;34m=\u001b[0m \u001b[0mpd\u001b[0m\u001b[0;34m.\u001b[0m\u001b[0mread_csv\u001b[0m\u001b[0;34m(\u001b[0m\u001b[0;34m'/Users/mmargaret/Documents/[UVA] Thesis/sherlock-project/data/'\u001b[0m \u001b[0;34m+\u001b[0m \u001b[0mfilename\u001b[0m\u001b[0;34m)\u001b[0m\u001b[0;34m\u001b[0m\u001b[0;34m\u001b[0m\u001b[0m\n\u001b[0m\u001b[1;32m      3\u001b[0m \u001b[0;34m\u001b[0m\u001b[0m\n\u001b[1;32m      4\u001b[0m \u001b[0ma_doc\u001b[0m \u001b[0;34m=\u001b[0m \u001b[0ma_doc\u001b[0m\u001b[0;34m.\u001b[0m\u001b[0mselect_dtypes\u001b[0m\u001b[0;34m(\u001b[0m\u001b[0minclude\u001b[0m\u001b[0;34m=\u001b[0m\u001b[0;34m[\u001b[0m\u001b[0mobject\u001b[0m\u001b[0;34m]\u001b[0m\u001b[0;34m)\u001b[0m\u001b[0;34m.\u001b[0m\u001b[0mastype\u001b[0m\u001b[0;34m(\u001b[0m\u001b[0mstr\u001b[0m\u001b[0;34m)\u001b[0m \u001b[0;31m#\u001b[0m\u001b[0;34m\u001b[0m\u001b[0;34m\u001b[0m\u001b[0m\n\u001b[1;32m      5\u001b[0m \u001b[0ma_doc\u001b[0m\u001b[0;34m.\u001b[0m\u001b[0mcolumns\u001b[0m\u001b[0;34m\u001b[0m\u001b[0;34m\u001b[0m\u001b[0m\n",
      "\u001b[0;32m~/opt/anaconda3/envs/py37/lib/python3.7/site-packages/pandas/util/_decorators.py\u001b[0m in \u001b[0;36mwrapper\u001b[0;34m(*args, **kwargs)\u001b[0m\n\u001b[1;32m    309\u001b[0m                     \u001b[0mstacklevel\u001b[0m\u001b[0;34m=\u001b[0m\u001b[0mstacklevel\u001b[0m\u001b[0;34m,\u001b[0m\u001b[0;34m\u001b[0m\u001b[0;34m\u001b[0m\u001b[0m\n\u001b[1;32m    310\u001b[0m                 )\n\u001b[0;32m--> 311\u001b[0;31m             \u001b[0;32mreturn\u001b[0m \u001b[0mfunc\u001b[0m\u001b[0;34m(\u001b[0m\u001b[0;34m*\u001b[0m\u001b[0margs\u001b[0m\u001b[0;34m,\u001b[0m \u001b[0;34m**\u001b[0m\u001b[0mkwargs\u001b[0m\u001b[0;34m)\u001b[0m\u001b[0;34m\u001b[0m\u001b[0;34m\u001b[0m\u001b[0m\n\u001b[0m\u001b[1;32m    312\u001b[0m \u001b[0;34m\u001b[0m\u001b[0m\n\u001b[1;32m    313\u001b[0m         \u001b[0;32mreturn\u001b[0m \u001b[0mwrapper\u001b[0m\u001b[0;34m\u001b[0m\u001b[0;34m\u001b[0m\u001b[0m\n",
      "\u001b[0;32m~/opt/anaconda3/envs/py37/lib/python3.7/site-packages/pandas/io/parsers/readers.py\u001b[0m in \u001b[0;36mread_csv\u001b[0;34m(filepath_or_buffer, sep, delimiter, header, names, index_col, usecols, squeeze, prefix, mangle_dupe_cols, dtype, engine, converters, true_values, false_values, skipinitialspace, skiprows, skipfooter, nrows, na_values, keep_default_na, na_filter, verbose, skip_blank_lines, parse_dates, infer_datetime_format, keep_date_col, date_parser, dayfirst, cache_dates, iterator, chunksize, compression, thousands, decimal, lineterminator, quotechar, quoting, doublequote, escapechar, comment, encoding, encoding_errors, dialect, error_bad_lines, warn_bad_lines, on_bad_lines, delim_whitespace, low_memory, memory_map, float_precision, storage_options)\u001b[0m\n\u001b[1;32m    584\u001b[0m     \u001b[0mkwds\u001b[0m\u001b[0;34m.\u001b[0m\u001b[0mupdate\u001b[0m\u001b[0;34m(\u001b[0m\u001b[0mkwds_defaults\u001b[0m\u001b[0;34m)\u001b[0m\u001b[0;34m\u001b[0m\u001b[0;34m\u001b[0m\u001b[0m\n\u001b[1;32m    585\u001b[0m \u001b[0;34m\u001b[0m\u001b[0m\n\u001b[0;32m--> 586\u001b[0;31m     \u001b[0;32mreturn\u001b[0m \u001b[0m_read\u001b[0m\u001b[0;34m(\u001b[0m\u001b[0mfilepath_or_buffer\u001b[0m\u001b[0;34m,\u001b[0m \u001b[0mkwds\u001b[0m\u001b[0;34m)\u001b[0m\u001b[0;34m\u001b[0m\u001b[0;34m\u001b[0m\u001b[0m\n\u001b[0m\u001b[1;32m    587\u001b[0m \u001b[0;34m\u001b[0m\u001b[0m\n\u001b[1;32m    588\u001b[0m \u001b[0;34m\u001b[0m\u001b[0m\n",
      "\u001b[0;32m~/opt/anaconda3/envs/py37/lib/python3.7/site-packages/pandas/io/parsers/readers.py\u001b[0m in \u001b[0;36m_read\u001b[0;34m(filepath_or_buffer, kwds)\u001b[0m\n\u001b[1;32m    480\u001b[0m \u001b[0;34m\u001b[0m\u001b[0m\n\u001b[1;32m    481\u001b[0m     \u001b[0;31m# Create the parser.\u001b[0m\u001b[0;34m\u001b[0m\u001b[0;34m\u001b[0m\u001b[0;34m\u001b[0m\u001b[0m\n\u001b[0;32m--> 482\u001b[0;31m     \u001b[0mparser\u001b[0m \u001b[0;34m=\u001b[0m \u001b[0mTextFileReader\u001b[0m\u001b[0;34m(\u001b[0m\u001b[0mfilepath_or_buffer\u001b[0m\u001b[0;34m,\u001b[0m \u001b[0;34m**\u001b[0m\u001b[0mkwds\u001b[0m\u001b[0;34m)\u001b[0m\u001b[0;34m\u001b[0m\u001b[0;34m\u001b[0m\u001b[0m\n\u001b[0m\u001b[1;32m    483\u001b[0m \u001b[0;34m\u001b[0m\u001b[0m\n\u001b[1;32m    484\u001b[0m     \u001b[0;32mif\u001b[0m \u001b[0mchunksize\u001b[0m \u001b[0;32mor\u001b[0m \u001b[0miterator\u001b[0m\u001b[0;34m:\u001b[0m\u001b[0;34m\u001b[0m\u001b[0;34m\u001b[0m\u001b[0m\n",
      "\u001b[0;32m~/opt/anaconda3/envs/py37/lib/python3.7/site-packages/pandas/io/parsers/readers.py\u001b[0m in \u001b[0;36m__init__\u001b[0;34m(self, f, engine, **kwds)\u001b[0m\n\u001b[1;32m    809\u001b[0m             \u001b[0mself\u001b[0m\u001b[0;34m.\u001b[0m\u001b[0moptions\u001b[0m\u001b[0;34m[\u001b[0m\u001b[0;34m\"has_index_names\"\u001b[0m\u001b[0;34m]\u001b[0m \u001b[0;34m=\u001b[0m \u001b[0mkwds\u001b[0m\u001b[0;34m[\u001b[0m\u001b[0;34m\"has_index_names\"\u001b[0m\u001b[0;34m]\u001b[0m\u001b[0;34m\u001b[0m\u001b[0;34m\u001b[0m\u001b[0m\n\u001b[1;32m    810\u001b[0m \u001b[0;34m\u001b[0m\u001b[0m\n\u001b[0;32m--> 811\u001b[0;31m         \u001b[0mself\u001b[0m\u001b[0;34m.\u001b[0m\u001b[0m_engine\u001b[0m \u001b[0;34m=\u001b[0m \u001b[0mself\u001b[0m\u001b[0;34m.\u001b[0m\u001b[0m_make_engine\u001b[0m\u001b[0;34m(\u001b[0m\u001b[0mself\u001b[0m\u001b[0;34m.\u001b[0m\u001b[0mengine\u001b[0m\u001b[0;34m)\u001b[0m\u001b[0;34m\u001b[0m\u001b[0;34m\u001b[0m\u001b[0m\n\u001b[0m\u001b[1;32m    812\u001b[0m \u001b[0;34m\u001b[0m\u001b[0m\n\u001b[1;32m    813\u001b[0m     \u001b[0;32mdef\u001b[0m \u001b[0mclose\u001b[0m\u001b[0;34m(\u001b[0m\u001b[0mself\u001b[0m\u001b[0;34m)\u001b[0m\u001b[0;34m:\u001b[0m\u001b[0;34m\u001b[0m\u001b[0;34m\u001b[0m\u001b[0m\n",
      "\u001b[0;32m~/opt/anaconda3/envs/py37/lib/python3.7/site-packages/pandas/io/parsers/readers.py\u001b[0m in \u001b[0;36m_make_engine\u001b[0;34m(self, engine)\u001b[0m\n\u001b[1;32m   1038\u001b[0m             )\n\u001b[1;32m   1039\u001b[0m         \u001b[0;31m# error: Too many arguments for \"ParserBase\"\u001b[0m\u001b[0;34m\u001b[0m\u001b[0;34m\u001b[0m\u001b[0;34m\u001b[0m\u001b[0m\n\u001b[0;32m-> 1040\u001b[0;31m         \u001b[0;32mreturn\u001b[0m \u001b[0mmapping\u001b[0m\u001b[0;34m[\u001b[0m\u001b[0mengine\u001b[0m\u001b[0;34m]\u001b[0m\u001b[0;34m(\u001b[0m\u001b[0mself\u001b[0m\u001b[0;34m.\u001b[0m\u001b[0mf\u001b[0m\u001b[0;34m,\u001b[0m \u001b[0;34m**\u001b[0m\u001b[0mself\u001b[0m\u001b[0;34m.\u001b[0m\u001b[0moptions\u001b[0m\u001b[0;34m)\u001b[0m  \u001b[0;31m# type: ignore[call-arg]\u001b[0m\u001b[0;34m\u001b[0m\u001b[0;34m\u001b[0m\u001b[0m\n\u001b[0m\u001b[1;32m   1041\u001b[0m \u001b[0;34m\u001b[0m\u001b[0m\n\u001b[1;32m   1042\u001b[0m     \u001b[0;32mdef\u001b[0m \u001b[0m_failover_to_python\u001b[0m\u001b[0;34m(\u001b[0m\u001b[0mself\u001b[0m\u001b[0;34m)\u001b[0m\u001b[0;34m:\u001b[0m\u001b[0;34m\u001b[0m\u001b[0;34m\u001b[0m\u001b[0m\n",
      "\u001b[0;32m~/opt/anaconda3/envs/py37/lib/python3.7/site-packages/pandas/io/parsers/c_parser_wrapper.py\u001b[0m in \u001b[0;36m__init__\u001b[0;34m(self, src, **kwds)\u001b[0m\n\u001b[1;32m     49\u001b[0m \u001b[0;34m\u001b[0m\u001b[0m\n\u001b[1;32m     50\u001b[0m         \u001b[0;31m# open handles\u001b[0m\u001b[0;34m\u001b[0m\u001b[0;34m\u001b[0m\u001b[0;34m\u001b[0m\u001b[0m\n\u001b[0;32m---> 51\u001b[0;31m         \u001b[0mself\u001b[0m\u001b[0;34m.\u001b[0m\u001b[0m_open_handles\u001b[0m\u001b[0;34m(\u001b[0m\u001b[0msrc\u001b[0m\u001b[0;34m,\u001b[0m \u001b[0mkwds\u001b[0m\u001b[0;34m)\u001b[0m\u001b[0;34m\u001b[0m\u001b[0;34m\u001b[0m\u001b[0m\n\u001b[0m\u001b[1;32m     52\u001b[0m         \u001b[0;32massert\u001b[0m \u001b[0mself\u001b[0m\u001b[0;34m.\u001b[0m\u001b[0mhandles\u001b[0m \u001b[0;32mis\u001b[0m \u001b[0;32mnot\u001b[0m \u001b[0;32mNone\u001b[0m\u001b[0;34m\u001b[0m\u001b[0;34m\u001b[0m\u001b[0m\n\u001b[1;32m     53\u001b[0m \u001b[0;34m\u001b[0m\u001b[0m\n",
      "\u001b[0;32m~/opt/anaconda3/envs/py37/lib/python3.7/site-packages/pandas/io/parsers/base_parser.py\u001b[0m in \u001b[0;36m_open_handles\u001b[0;34m(self, src, kwds)\u001b[0m\n\u001b[1;32m    227\u001b[0m             \u001b[0mmemory_map\u001b[0m\u001b[0;34m=\u001b[0m\u001b[0mkwds\u001b[0m\u001b[0;34m.\u001b[0m\u001b[0mget\u001b[0m\u001b[0;34m(\u001b[0m\u001b[0;34m\"memory_map\"\u001b[0m\u001b[0;34m,\u001b[0m \u001b[0;32mFalse\u001b[0m\u001b[0;34m)\u001b[0m\u001b[0;34m,\u001b[0m\u001b[0;34m\u001b[0m\u001b[0;34m\u001b[0m\u001b[0m\n\u001b[1;32m    228\u001b[0m             \u001b[0mstorage_options\u001b[0m\u001b[0;34m=\u001b[0m\u001b[0mkwds\u001b[0m\u001b[0;34m.\u001b[0m\u001b[0mget\u001b[0m\u001b[0;34m(\u001b[0m\u001b[0;34m\"storage_options\"\u001b[0m\u001b[0;34m,\u001b[0m \u001b[0;32mNone\u001b[0m\u001b[0;34m)\u001b[0m\u001b[0;34m,\u001b[0m\u001b[0;34m\u001b[0m\u001b[0;34m\u001b[0m\u001b[0m\n\u001b[0;32m--> 229\u001b[0;31m             \u001b[0merrors\u001b[0m\u001b[0;34m=\u001b[0m\u001b[0mkwds\u001b[0m\u001b[0;34m.\u001b[0m\u001b[0mget\u001b[0m\u001b[0;34m(\u001b[0m\u001b[0;34m\"encoding_errors\"\u001b[0m\u001b[0;34m,\u001b[0m \u001b[0;34m\"strict\"\u001b[0m\u001b[0;34m)\u001b[0m\u001b[0;34m,\u001b[0m\u001b[0;34m\u001b[0m\u001b[0;34m\u001b[0m\u001b[0m\n\u001b[0m\u001b[1;32m    230\u001b[0m         )\n\u001b[1;32m    231\u001b[0m \u001b[0;34m\u001b[0m\u001b[0m\n",
      "\u001b[0;32m~/opt/anaconda3/envs/py37/lib/python3.7/site-packages/pandas/io/common.py\u001b[0m in \u001b[0;36mget_handle\u001b[0;34m(path_or_buf, mode, encoding, compression, memory_map, is_text, errors, storage_options)\u001b[0m\n\u001b[1;32m    705\u001b[0m                 \u001b[0mencoding\u001b[0m\u001b[0;34m=\u001b[0m\u001b[0mioargs\u001b[0m\u001b[0;34m.\u001b[0m\u001b[0mencoding\u001b[0m\u001b[0;34m,\u001b[0m\u001b[0;34m\u001b[0m\u001b[0;34m\u001b[0m\u001b[0m\n\u001b[1;32m    706\u001b[0m                 \u001b[0merrors\u001b[0m\u001b[0;34m=\u001b[0m\u001b[0merrors\u001b[0m\u001b[0;34m,\u001b[0m\u001b[0;34m\u001b[0m\u001b[0;34m\u001b[0m\u001b[0m\n\u001b[0;32m--> 707\u001b[0;31m                 \u001b[0mnewline\u001b[0m\u001b[0;34m=\u001b[0m\u001b[0;34m\"\"\u001b[0m\u001b[0;34m,\u001b[0m\u001b[0;34m\u001b[0m\u001b[0;34m\u001b[0m\u001b[0m\n\u001b[0m\u001b[1;32m    708\u001b[0m             )\n\u001b[1;32m    709\u001b[0m         \u001b[0;32melse\u001b[0m\u001b[0;34m:\u001b[0m\u001b[0;34m\u001b[0m\u001b[0;34m\u001b[0m\u001b[0m\n",
      "\u001b[0;31mFileNotFoundError\u001b[0m: [Errno 2] No such file or directory: '/Users/mmargaret/Documents/[UVA] Thesis/sherlock-project/data/8b73c4243284ca0c84c45401f2e5a008d65f291466f4661483b432741c0a1836.text.csv'"
     ]
    }
   ],
   "source": [
    "filename = '8b73c4243284ca0c84c45401f2e5a008d65f291466f4661483b432741c0a1836.text.csv'\n",
    "a_doc = pd.read_csv('/Users/mmargaret/Documents/[UVA] Thesis/sherlock-project/data/' + filename)\n",
    "\n",
    "a_doc = a_doc.select_dtypes(include=[object]).astype(str) #\n",
    "a_doc.columns\n"
   ]
  },
  {
   "cell_type": "code",
   "execution_count": 4,
   "id": "2249ad6d",
   "metadata": {},
   "outputs": [
    {
     "data": {
      "text/plain": [
       "0    [FFSU, FFSU, FFSU, FFSU, FFSU, FFSU, FFSU, FFS...\n",
       "1    [XX, XX, XX, XX, XX, XX, XX, XX, XX, XX, XX, X...\n",
       "2    [PEDIALYTE, PEDIALYTE, ALPRAZOLAM, PRENATAL P,...\n",
       "3    [4/1, 1/1, 4/1, 4/1, 4/1, 1/1, 1/1, 1/1, 4/1, ...\n",
       "4    [04/01/2004, 01/01/2004, 04/01/2004, 04/01/200...\n",
       "5    [nan, nan, nan, nan, nan, nan, nan, nan, nan, ...\n",
       "Name: values, dtype: object"
      ]
     },
     "execution_count": 4,
     "metadata": {},
     "output_type": "execute_result"
    }
   ],
   "source": [
    "data = pd.Series(\n",
    "    a_doc.transpose().values.tolist(),\n",
    "    name=\"values\"\n",
    ")\n",
    "data"
   ]
  },
  {
   "cell_type": "code",
   "execution_count": 5,
   "id": "f7f2c846",
   "metadata": {},
   "outputs": [
    {
     "name": "stderr",
     "output_type": "stream",
     "text": [
      "\r",
      "Extracting Features:   0%|                                | 0/6 [00:00<?, ?it/s]"
     ]
    },
    {
     "name": "stdout",
     "output_type": "stream",
     "text": [
      "Exporting 1588 column features\n"
     ]
    },
    {
     "name": "stderr",
     "output_type": "stream",
     "text": [
      "Extracting Features: 100%|████████████████████████| 6/6 [00:00<00:00, 11.88it/s]\n"
     ]
    }
   ],
   "source": [
    "extract_features(\n",
    "    \"../temporary.csv\",\n",
    "    data\n",
    ")\n",
    "feature_vectors = pd.read_csv(\"../temporary.csv\", dtype=np.float32)"
   ]
  },
  {
   "cell_type": "code",
   "execution_count": 6,
   "id": "0c42ce71",
   "metadata": {},
   "outputs": [
    {
     "data": {
      "text/html": [
       "<div>\n",
       "<style scoped>\n",
       "    .dataframe tbody tr th:only-of-type {\n",
       "        vertical-align: middle;\n",
       "    }\n",
       "\n",
       "    .dataframe tbody tr th {\n",
       "        vertical-align: top;\n",
       "    }\n",
       "\n",
       "    .dataframe thead th {\n",
       "        text-align: right;\n",
       "    }\n",
       "</style>\n",
       "<table border=\"1\" class=\"dataframe\">\n",
       "  <thead>\n",
       "    <tr style=\"text-align: right;\">\n",
       "      <th></th>\n",
       "      <th>n_[0]-agg-any</th>\n",
       "      <th>n_[0]-agg-all</th>\n",
       "      <th>n_[0]-agg-mean</th>\n",
       "      <th>n_[0]-agg-var</th>\n",
       "      <th>n_[0]-agg-min</th>\n",
       "      <th>n_[0]-agg-max</th>\n",
       "      <th>n_[0]-agg-median</th>\n",
       "      <th>n_[0]-agg-sum</th>\n",
       "      <th>n_[0]-agg-kurtosis</th>\n",
       "      <th>n_[0]-agg-skewness</th>\n",
       "      <th>...</th>\n",
       "      <th>par_vec_390</th>\n",
       "      <th>par_vec_391</th>\n",
       "      <th>par_vec_392</th>\n",
       "      <th>par_vec_393</th>\n",
       "      <th>par_vec_394</th>\n",
       "      <th>par_vec_395</th>\n",
       "      <th>par_vec_396</th>\n",
       "      <th>par_vec_397</th>\n",
       "      <th>par_vec_398</th>\n",
       "      <th>par_vec_399</th>\n",
       "    </tr>\n",
       "  </thead>\n",
       "  <tbody>\n",
       "    <tr>\n",
       "      <th>0</th>\n",
       "      <td>0.0</td>\n",
       "      <td>0.0</td>\n",
       "      <td>0.000</td>\n",
       "      <td>0.000000</td>\n",
       "      <td>0.0</td>\n",
       "      <td>0.0</td>\n",
       "      <td>0.0</td>\n",
       "      <td>0.0</td>\n",
       "      <td>-3.000000</td>\n",
       "      <td>0.000000</td>\n",
       "      <td>...</td>\n",
       "      <td>0.000095</td>\n",
       "      <td>-0.000920</td>\n",
       "      <td>-0.000721</td>\n",
       "      <td>0.001115</td>\n",
       "      <td>0.000341</td>\n",
       "      <td>0.000725</td>\n",
       "      <td>-0.001038</td>\n",
       "      <td>0.001035</td>\n",
       "      <td>0.000030</td>\n",
       "      <td>-0.000311</td>\n",
       "    </tr>\n",
       "    <tr>\n",
       "      <th>1</th>\n",
       "      <td>0.0</td>\n",
       "      <td>0.0</td>\n",
       "      <td>0.000</td>\n",
       "      <td>0.000000</td>\n",
       "      <td>0.0</td>\n",
       "      <td>0.0</td>\n",
       "      <td>0.0</td>\n",
       "      <td>0.0</td>\n",
       "      <td>-3.000000</td>\n",
       "      <td>0.000000</td>\n",
       "      <td>...</td>\n",
       "      <td>-0.775455</td>\n",
       "      <td>0.145490</td>\n",
       "      <td>-0.119590</td>\n",
       "      <td>0.208576</td>\n",
       "      <td>-0.846167</td>\n",
       "      <td>-0.376466</td>\n",
       "      <td>-0.025163</td>\n",
       "      <td>-0.637691</td>\n",
       "      <td>0.087774</td>\n",
       "      <td>-0.480676</td>\n",
       "    </tr>\n",
       "    <tr>\n",
       "      <th>2</th>\n",
       "      <td>1.0</td>\n",
       "      <td>0.0</td>\n",
       "      <td>0.055</td>\n",
       "      <td>0.071975</td>\n",
       "      <td>0.0</td>\n",
       "      <td>3.0</td>\n",
       "      <td>0.0</td>\n",
       "      <td>55.0</td>\n",
       "      <td>36.710018</td>\n",
       "      <td>5.642683</td>\n",
       "      <td>...</td>\n",
       "      <td>0.546457</td>\n",
       "      <td>-0.071316</td>\n",
       "      <td>0.129075</td>\n",
       "      <td>0.110144</td>\n",
       "      <td>-0.619416</td>\n",
       "      <td>0.449996</td>\n",
       "      <td>0.387853</td>\n",
       "      <td>-0.123300</td>\n",
       "      <td>0.046871</td>\n",
       "      <td>-0.534526</td>\n",
       "    </tr>\n",
       "    <tr>\n",
       "      <th>3</th>\n",
       "      <td>1.0</td>\n",
       "      <td>0.0</td>\n",
       "      <td>0.247</td>\n",
       "      <td>0.185991</td>\n",
       "      <td>0.0</td>\n",
       "      <td>1.0</td>\n",
       "      <td>0.0</td>\n",
       "      <td>247.0</td>\n",
       "      <td>-0.623396</td>\n",
       "      <td>1.173288</td>\n",
       "      <td>...</td>\n",
       "      <td>-0.138906</td>\n",
       "      <td>-0.139290</td>\n",
       "      <td>0.016313</td>\n",
       "      <td>0.048243</td>\n",
       "      <td>-0.651826</td>\n",
       "      <td>-0.131029</td>\n",
       "      <td>-0.396145</td>\n",
       "      <td>-0.249700</td>\n",
       "      <td>0.074340</td>\n",
       "      <td>-0.806943</td>\n",
       "    </tr>\n",
       "    <tr>\n",
       "      <th>4</th>\n",
       "      <td>1.0</td>\n",
       "      <td>1.0</td>\n",
       "      <td>4.000</td>\n",
       "      <td>0.000000</td>\n",
       "      <td>4.0</td>\n",
       "      <td>4.0</td>\n",
       "      <td>4.0</td>\n",
       "      <td>4000.0</td>\n",
       "      <td>-3.000000</td>\n",
       "      <td>0.000000</td>\n",
       "      <td>...</td>\n",
       "      <td>-0.007073</td>\n",
       "      <td>0.496197</td>\n",
       "      <td>-0.430627</td>\n",
       "      <td>0.539399</td>\n",
       "      <td>0.108929</td>\n",
       "      <td>-0.435804</td>\n",
       "      <td>-0.341008</td>\n",
       "      <td>0.529492</td>\n",
       "      <td>-0.567380</td>\n",
       "      <td>-0.342077</td>\n",
       "    </tr>\n",
       "    <tr>\n",
       "      <th>5</th>\n",
       "      <td>1.0</td>\n",
       "      <td>0.0</td>\n",
       "      <td>0.779</td>\n",
       "      <td>0.722159</td>\n",
       "      <td>0.0</td>\n",
       "      <td>3.0</td>\n",
       "      <td>1.0</td>\n",
       "      <td>779.0</td>\n",
       "      <td>-0.049952</td>\n",
       "      <td>0.858064</td>\n",
       "      <td>...</td>\n",
       "      <td>-0.153812</td>\n",
       "      <td>0.345746</td>\n",
       "      <td>-0.562288</td>\n",
       "      <td>-0.068926</td>\n",
       "      <td>-0.093484</td>\n",
       "      <td>-0.301105</td>\n",
       "      <td>-0.297900</td>\n",
       "      <td>0.168808</td>\n",
       "      <td>-0.186550</td>\n",
       "      <td>-0.482700</td>\n",
       "    </tr>\n",
       "  </tbody>\n",
       "</table>\n",
       "<p>6 rows × 1588 columns</p>\n",
       "</div>"
      ],
      "text/plain": [
       "   n_[0]-agg-any  n_[0]-agg-all  n_[0]-agg-mean  n_[0]-agg-var  n_[0]-agg-min  \\\n",
       "0            0.0            0.0           0.000       0.000000            0.0   \n",
       "1            0.0            0.0           0.000       0.000000            0.0   \n",
       "2            1.0            0.0           0.055       0.071975            0.0   \n",
       "3            1.0            0.0           0.247       0.185991            0.0   \n",
       "4            1.0            1.0           4.000       0.000000            4.0   \n",
       "5            1.0            0.0           0.779       0.722159            0.0   \n",
       "\n",
       "   n_[0]-agg-max  n_[0]-agg-median  n_[0]-agg-sum  n_[0]-agg-kurtosis  \\\n",
       "0            0.0               0.0            0.0           -3.000000   \n",
       "1            0.0               0.0            0.0           -3.000000   \n",
       "2            3.0               0.0           55.0           36.710018   \n",
       "3            1.0               0.0          247.0           -0.623396   \n",
       "4            4.0               4.0         4000.0           -3.000000   \n",
       "5            3.0               1.0          779.0           -0.049952   \n",
       "\n",
       "   n_[0]-agg-skewness  ...  par_vec_390  par_vec_391  par_vec_392  \\\n",
       "0            0.000000  ...     0.000095    -0.000920    -0.000721   \n",
       "1            0.000000  ...    -0.775455     0.145490    -0.119590   \n",
       "2            5.642683  ...     0.546457    -0.071316     0.129075   \n",
       "3            1.173288  ...    -0.138906    -0.139290     0.016313   \n",
       "4            0.000000  ...    -0.007073     0.496197    -0.430627   \n",
       "5            0.858064  ...    -0.153812     0.345746    -0.562288   \n",
       "\n",
       "   par_vec_393  par_vec_394  par_vec_395  par_vec_396  par_vec_397  \\\n",
       "0     0.001115     0.000341     0.000725    -0.001038     0.001035   \n",
       "1     0.208576    -0.846167    -0.376466    -0.025163    -0.637691   \n",
       "2     0.110144    -0.619416     0.449996     0.387853    -0.123300   \n",
       "3     0.048243    -0.651826    -0.131029    -0.396145    -0.249700   \n",
       "4     0.539399     0.108929    -0.435804    -0.341008     0.529492   \n",
       "5    -0.068926    -0.093484    -0.301105    -0.297900     0.168808   \n",
       "\n",
       "   par_vec_398  par_vec_399  \n",
       "0     0.000030    -0.000311  \n",
       "1     0.087774    -0.480676  \n",
       "2     0.046871    -0.534526  \n",
       "3     0.074340    -0.806943  \n",
       "4    -0.567380    -0.342077  \n",
       "5    -0.186550    -0.482700  \n",
       "\n",
       "[6 rows x 1588 columns]"
      ]
     },
     "execution_count": 6,
     "metadata": {},
     "output_type": "execute_result"
    }
   ],
   "source": [
    "feature_vectors"
   ]
  },
  {
   "cell_type": "code",
   "execution_count": null,
   "id": "f41d44ea",
   "metadata": {},
   "outputs": [],
   "source": []
  },
  {
   "cell_type": "markdown",
   "id": "9027fa4a",
   "metadata": {},
   "source": [
    "## Initialize Sherlock"
   ]
  },
  {
   "cell_type": "code",
   "execution_count": 7,
   "id": "b9ec13ec",
   "metadata": {},
   "outputs": [
    {
     "name": "stderr",
     "output_type": "stream",
     "text": [
      "WARNING: Logging before flag parsing goes to stderr.\n",
      "W0429 09:13:51.863543 4681580032 deprecation.py:506] From /Users/mmargaret/opt/anaconda3/envs/py37/lib/python3.7/site-packages/tensorflow_core/python/ops/init_ops.py:97: calling Zeros.__init__ (from tensorflow.python.ops.init_ops) with dtype is deprecated and will be removed in a future version.\n",
      "Instructions for updating:\n",
      "Call initializer instance with the dtype argument instead of passing it to the constructor\n",
      "W0429 09:13:51.864383 4681580032 deprecation.py:506] From /Users/mmargaret/opt/anaconda3/envs/py37/lib/python3.7/site-packages/tensorflow_core/python/ops/init_ops.py:97: calling Ones.__init__ (from tensorflow.python.ops.init_ops) with dtype is deprecated and will be removed in a future version.\n",
      "Instructions for updating:\n",
      "Call initializer instance with the dtype argument instead of passing it to the constructor\n",
      "W0429 09:13:51.867066 4681580032 deprecation.py:506] From /Users/mmargaret/opt/anaconda3/envs/py37/lib/python3.7/site-packages/tensorflow_core/python/ops/init_ops.py:97: calling VarianceScaling.__init__ (from tensorflow.python.ops.init_ops) with dtype is deprecated and will be removed in a future version.\n",
      "Instructions for updating:\n",
      "Call initializer instance with the dtype argument instead of passing it to the constructor\n",
      "W0429 09:13:51.890010 4681580032 deprecation.py:506] From /Users/mmargaret/opt/anaconda3/envs/py37/lib/python3.7/site-packages/tensorflow_core/python/ops/resource_variable_ops.py:1630: calling BaseResourceVariable.__init__ (from tensorflow.python.ops.resource_variable_ops) with constraint is deprecated and will be removed in a future version.\n",
      "Instructions for updating:\n",
      "If using Keras pass *_constraint arguments to layers.\n",
      "2022-04-29 09:13:52.321081: I tensorflow/core/platform/cpu_feature_guard.cc:142] Your CPU supports instructions that this TensorFlow binary was not compiled to use: AVX2 FMA\n",
      "2022-04-29 09:13:52.373735: I tensorflow/compiler/xla/service/service.cc:168] XLA service 0x7fe3b29c6690 initialized for platform Host (this does not guarantee that XLA will be used). Devices:\n",
      "2022-04-29 09:13:52.373751: I tensorflow/compiler/xla/service/service.cc:176]   StreamExecutor device (0): Host, Default Version\n"
     ]
    }
   ],
   "source": [
    "model = SherlockModel();\n",
    "model.initialize_model_from_json(with_weights=True, model_id=\"sherlock\");"
   ]
  },
  {
   "cell_type": "code",
   "execution_count": null,
   "id": "5551878e",
   "metadata": {},
   "outputs": [],
   "source": []
  },
  {
   "cell_type": "markdown",
   "id": "8a1ab955",
   "metadata": {},
   "source": [
    "## Predict semantic type for column"
   ]
  },
  {
   "cell_type": "code",
   "execution_count": 8,
   "id": "fc079fa9",
   "metadata": {},
   "outputs": [],
   "source": [
    "predicted_labels = model.predict(feature_vectors, \"sherlock\")"
   ]
  },
  {
   "cell_type": "code",
   "execution_count": 9,
   "id": "0feb9584",
   "metadata": {},
   "outputs": [
    {
     "data": {
      "text/plain": [
       "array(['address', 'state', 'brand', 'country', 'address', 'age'],\n",
       "      dtype=object)"
      ]
     },
     "execution_count": 9,
     "metadata": {},
     "output_type": "execute_result"
    }
   ],
   "source": [
    "predicted_labels #predicted columns' name"
   ]
  },
  {
   "cell_type": "code",
   "execution_count": 10,
   "id": "e4efc9a2",
   "metadata": {},
   "outputs": [
    {
     "data": {
      "text/plain": [
       "Index(['Utilization Type', 'State', 'Product Name', 'Quarter Begin',\n",
       "       'Quarter Begin Date', 'Location'],\n",
       "      dtype='object')"
      ]
     },
     "execution_count": 10,
     "metadata": {},
     "output_type": "execute_result"
    }
   ],
   "source": [
    "a_doc.columns #original columns' name"
   ]
  },
  {
   "cell_type": "code",
   "execution_count": 11,
   "id": "f55be158",
   "metadata": {},
   "outputs": [
    {
     "data": {
      "text/plain": [
       "['nan',\n",
       " 'nan',\n",
       " 'nan',\n",
       " 'nan',\n",
       " 'nan',\n",
       " 'nan',\n",
       " 'nan',\n",
       " 'nan',\n",
       " 'nan',\n",
       " 'nan',\n",
       " 'nan',\n",
       " 'nan',\n",
       " 'nan',\n",
       " 'nan',\n",
       " 'nan',\n",
       " 'nan',\n",
       " 'nan',\n",
       " 'nan',\n",
       " 'nan',\n",
       " 'nan',\n",
       " 'nan',\n",
       " 'nan',\n",
       " 'nan',\n",
       " 'nan',\n",
       " 'nan',\n",
       " 'nan',\n",
       " 'nan',\n",
       " 'nan',\n",
       " 'nan',\n",
       " 'nan',\n",
       " 'nan',\n",
       " 'nan',\n",
       " 'nan',\n",
       " 'nan',\n",
       " 'nan',\n",
       " 'nan',\n",
       " 'nan',\n",
       " 'nan',\n",
       " 'nan',\n",
       " 'nan',\n",
       " 'nan',\n",
       " 'nan',\n",
       " 'nan',\n",
       " 'nan',\n",
       " 'nan',\n",
       " 'nan',\n",
       " 'nan',\n",
       " 'nan',\n",
       " 'nan',\n",
       " 'nan',\n",
       " 'nan',\n",
       " 'nan',\n",
       " 'nan',\n",
       " 'nan',\n",
       " 'nan',\n",
       " 'nan',\n",
       " 'nan',\n",
       " 'nan',\n",
       " 'nan',\n",
       " 'nan',\n",
       " 'nan',\n",
       " 'nan',\n",
       " 'nan',\n",
       " 'nan',\n",
       " 'nan',\n",
       " 'nan',\n",
       " 'nan',\n",
       " 'nan',\n",
       " 'nan',\n",
       " 'nan',\n",
       " 'nan',\n",
       " 'nan',\n",
       " 'nan',\n",
       " 'nan',\n",
       " 'nan',\n",
       " 'nan',\n",
       " 'nan',\n",
       " 'nan',\n",
       " 'nan',\n",
       " 'nan',\n",
       " 'nan',\n",
       " 'nan',\n",
       " 'nan',\n",
       " 'nan',\n",
       " 'nan',\n",
       " 'nan',\n",
       " 'nan',\n",
       " 'nan',\n",
       " 'nan',\n",
       " 'nan',\n",
       " 'nan',\n",
       " 'nan',\n",
       " 'nan',\n",
       " 'nan',\n",
       " 'nan',\n",
       " 'nan',\n",
       " 'nan',\n",
       " 'nan',\n",
       " 'nan',\n",
       " 'nan',\n",
       " 'nan',\n",
       " 'nan',\n",
       " 'nan',\n",
       " 'nan',\n",
       " 'nan',\n",
       " 'nan',\n",
       " 'nan',\n",
       " 'nan',\n",
       " 'nan',\n",
       " 'nan',\n",
       " 'nan',\n",
       " 'nan',\n",
       " 'nan',\n",
       " 'nan',\n",
       " 'nan',\n",
       " 'nan',\n",
       " 'nan',\n",
       " 'nan',\n",
       " 'nan',\n",
       " 'nan',\n",
       " 'nan',\n",
       " 'nan',\n",
       " 'nan',\n",
       " 'nan',\n",
       " 'nan',\n",
       " '(32.799, -86.8073)',\n",
       " 'nan',\n",
       " 'nan',\n",
       " 'nan',\n",
       " '(32.799, -86.8073)',\n",
       " 'nan',\n",
       " '(61.385, -152.2683)',\n",
       " '(32.799, -86.8073)',\n",
       " '(34.9513, -92.3809)',\n",
       " 'nan',\n",
       " 'nan',\n",
       " 'nan',\n",
       " 'nan',\n",
       " 'nan',\n",
       " '(32.799, -86.8073)',\n",
       " 'nan',\n",
       " '(34.9513, -92.3809)',\n",
       " '(32.799, -86.8073)',\n",
       " 'nan',\n",
       " 'nan',\n",
       " 'nan',\n",
       " '(34.9513, -92.3809)',\n",
       " '(34.9513, -92.3809)',\n",
       " 'nan',\n",
       " '(32.799, -86.8073)',\n",
       " 'nan',\n",
       " '(34.9513, -92.3809)',\n",
       " 'nan',\n",
       " 'nan',\n",
       " '(34.9513, -92.3809)',\n",
       " '(32.799, -86.8073)',\n",
       " 'nan',\n",
       " 'nan',\n",
       " '(61.385, -152.2683)',\n",
       " 'nan',\n",
       " 'nan',\n",
       " '(34.9513, -92.3809)',\n",
       " 'nan',\n",
       " '(32.799, -86.8073)',\n",
       " '(32.799, -86.8073)',\n",
       " 'nan',\n",
       " '(32.799, -86.8073)',\n",
       " '(32.799, -86.8073)',\n",
       " 'nan',\n",
       " 'nan',\n",
       " 'nan',\n",
       " 'nan',\n",
       " 'nan',\n",
       " 'nan',\n",
       " 'nan',\n",
       " 'nan',\n",
       " '(34.9513, -92.3809)',\n",
       " 'nan',\n",
       " 'nan',\n",
       " '(32.799, -86.8073)',\n",
       " '(61.385, -152.2683)',\n",
       " '(61.385, -152.2683)',\n",
       " '(32.799, -86.8073)',\n",
       " '(34.9513, -92.3809)',\n",
       " '(34.9513, -92.3809)',\n",
       " '(34.9513, -92.3809)',\n",
       " 'nan',\n",
       " 'nan',\n",
       " 'nan',\n",
       " 'nan',\n",
       " '(34.9513, -92.3809)',\n",
       " '(61.385, -152.2683)',\n",
       " '(34.9513, -92.3809)',\n",
       " 'nan',\n",
       " 'nan',\n",
       " '(61.385, -152.2683)',\n",
       " '(34.9513, -92.3809)',\n",
       " 'nan',\n",
       " 'nan',\n",
       " '(34.9513, -92.3809)',\n",
       " '(32.799, -86.8073)',\n",
       " 'nan',\n",
       " '(32.799, -86.8073)',\n",
       " 'nan',\n",
       " '(34.9513, -92.3809)',\n",
       " '(32.799, -86.8073)',\n",
       " 'nan',\n",
       " 'nan',\n",
       " 'nan',\n",
       " 'nan',\n",
       " '(61.385, -152.2683)',\n",
       " '(32.799, -86.8073)',\n",
       " 'nan',\n",
       " 'nan',\n",
       " '(34.9513, -92.3809)',\n",
       " '(32.799, -86.8073)',\n",
       " '(34.9513, -92.3809)',\n",
       " 'nan',\n",
       " 'nan',\n",
       " '(34.9513, -92.3809)',\n",
       " '(34.9513, -92.3809)',\n",
       " '(32.799, -86.8073)',\n",
       " 'nan',\n",
       " 'nan',\n",
       " 'nan',\n",
       " '(32.799, -86.8073)',\n",
       " 'nan',\n",
       " 'nan',\n",
       " '(34.9513, -92.3809)',\n",
       " 'nan',\n",
       " '(32.799, -86.8073)',\n",
       " 'nan',\n",
       " '(34.9513, -92.3809)',\n",
       " '(34.9513, -92.3809)',\n",
       " '(32.799, -86.8073)',\n",
       " '(34.9513, -92.3809)',\n",
       " 'nan',\n",
       " 'nan',\n",
       " '(34.9513, -92.3809)',\n",
       " 'nan',\n",
       " 'nan',\n",
       " 'nan',\n",
       " 'nan',\n",
       " '(61.385, -152.2683)',\n",
       " 'nan',\n",
       " '(61.385, -152.2683)',\n",
       " 'nan',\n",
       " '(32.799, -86.8073)',\n",
       " '(34.9513, -92.3809)',\n",
       " '(32.799, -86.8073)',\n",
       " '(61.385, -152.2683)',\n",
       " 'nan',\n",
       " 'nan',\n",
       " 'nan',\n",
       " '(61.385, -152.2683)',\n",
       " '(32.799, -86.8073)',\n",
       " 'nan',\n",
       " 'nan',\n",
       " 'nan',\n",
       " 'nan',\n",
       " 'nan',\n",
       " 'nan',\n",
       " 'nan',\n",
       " '(61.385, -152.2683)',\n",
       " 'nan',\n",
       " '(34.9513, -92.3809)',\n",
       " 'nan',\n",
       " 'nan',\n",
       " '(61.385, -152.2683)',\n",
       " '(32.799, -86.8073)',\n",
       " '(34.9513, -92.3809)',\n",
       " 'nan',\n",
       " 'nan',\n",
       " 'nan',\n",
       " 'nan',\n",
       " 'nan',\n",
       " '(61.385, -152.2683)',\n",
       " '(61.385, -152.2683)',\n",
       " '(32.799, -86.8073)',\n",
       " '(61.385, -152.2683)',\n",
       " 'nan',\n",
       " 'nan',\n",
       " 'nan',\n",
       " '(32.799, -86.8073)',\n",
       " 'nan',\n",
       " '(34.9513, -92.3809)',\n",
       " '(34.9513, -92.3809)',\n",
       " '(34.9513, -92.3809)',\n",
       " '(32.799, -86.8073)',\n",
       " '(61.385, -152.2683)',\n",
       " '(61.385, -152.2683)',\n",
       " 'nan',\n",
       " '(32.799, -86.8073)',\n",
       " '(61.385, -152.2683)',\n",
       " 'nan',\n",
       " 'nan',\n",
       " 'nan',\n",
       " 'nan',\n",
       " 'nan',\n",
       " '(32.799, -86.8073)',\n",
       " 'nan',\n",
       " 'nan',\n",
       " 'nan',\n",
       " 'nan',\n",
       " '(34.9513, -92.3809)',\n",
       " 'nan',\n",
       " 'nan',\n",
       " 'nan',\n",
       " 'nan',\n",
       " 'nan',\n",
       " 'nan',\n",
       " '(61.385, -152.2683)',\n",
       " 'nan',\n",
       " 'nan',\n",
       " 'nan',\n",
       " '(34.9513, -92.3809)',\n",
       " 'nan',\n",
       " 'nan',\n",
       " 'nan',\n",
       " 'nan',\n",
       " '(34.9513, -92.3809)',\n",
       " '(32.799, -86.8073)',\n",
       " '(32.799, -86.8073)',\n",
       " '(34.9513, -92.3809)',\n",
       " 'nan',\n",
       " '(61.385, -152.2683)',\n",
       " '(34.9513, -92.3809)',\n",
       " 'nan',\n",
       " '(61.385, -152.2683)',\n",
       " 'nan',\n",
       " 'nan',\n",
       " 'nan',\n",
       " 'nan',\n",
       " '(34.9513, -92.3809)',\n",
       " '(32.799, -86.8073)',\n",
       " 'nan',\n",
       " 'nan',\n",
       " 'nan',\n",
       " '(61.385, -152.2683)',\n",
       " 'nan',\n",
       " '(34.9513, -92.3809)',\n",
       " 'nan',\n",
       " '(34.9513, -92.3809)',\n",
       " '(34.9513, -92.3809)',\n",
       " '(34.9513, -92.3809)',\n",
       " 'nan',\n",
       " '(32.799, -86.8073)',\n",
       " 'nan',\n",
       " 'nan',\n",
       " 'nan',\n",
       " '(61.385, -152.2683)',\n",
       " '(61.385, -152.2683)',\n",
       " 'nan',\n",
       " 'nan',\n",
       " '(32.799, -86.8073)',\n",
       " 'nan',\n",
       " '(34.9513, -92.3809)',\n",
       " '(34.9513, -92.3809)',\n",
       " '(32.799, -86.8073)',\n",
       " '(32.799, -86.8073)',\n",
       " '(61.385, -152.2683)',\n",
       " '(32.799, -86.8073)',\n",
       " '(61.385, -152.2683)',\n",
       " '(34.9513, -92.3809)',\n",
       " 'nan',\n",
       " '(32.799, -86.8073)',\n",
       " '(32.799, -86.8073)',\n",
       " '(61.385, -152.2683)',\n",
       " 'nan',\n",
       " 'nan',\n",
       " '(34.9513, -92.3809)',\n",
       " '(34.9513, -92.3809)',\n",
       " '(61.385, -152.2683)',\n",
       " 'nan',\n",
       " 'nan',\n",
       " 'nan',\n",
       " '(32.799, -86.8073)',\n",
       " '(61.385, -152.2683)',\n",
       " 'nan',\n",
       " 'nan',\n",
       " 'nan',\n",
       " 'nan',\n",
       " 'nan',\n",
       " '(61.385, -152.2683)',\n",
       " '(61.385, -152.2683)',\n",
       " '(34.9513, -92.3809)',\n",
       " 'nan',\n",
       " '(34.9513, -92.3809)',\n",
       " '(32.799, -86.8073)',\n",
       " '(32.799, -86.8073)',\n",
       " '(34.9513, -92.3809)',\n",
       " '(61.385, -152.2683)',\n",
       " '(34.9513, -92.3809)',\n",
       " '(32.799, -86.8073)',\n",
       " 'nan',\n",
       " 'nan',\n",
       " 'nan',\n",
       " 'nan',\n",
       " 'nan',\n",
       " '(32.799, -86.8073)',\n",
       " 'nan',\n",
       " '(32.799, -86.8073)',\n",
       " 'nan',\n",
       " 'nan',\n",
       " '(61.385, -152.2683)',\n",
       " 'nan',\n",
       " 'nan',\n",
       " 'nan',\n",
       " '(34.9513, -92.3809)',\n",
       " '(34.9513, -92.3809)',\n",
       " 'nan',\n",
       " 'nan',\n",
       " '(34.9513, -92.3809)',\n",
       " 'nan',\n",
       " 'nan',\n",
       " 'nan',\n",
       " '(61.385, -152.2683)',\n",
       " 'nan',\n",
       " '(34.9513, -92.3809)',\n",
       " 'nan',\n",
       " '(34.9513, -92.3809)',\n",
       " '(34.9513, -92.3809)',\n",
       " 'nan',\n",
       " 'nan',\n",
       " 'nan',\n",
       " '(34.9513, -92.3809)',\n",
       " 'nan',\n",
       " 'nan',\n",
       " 'nan',\n",
       " 'nan',\n",
       " 'nan',\n",
       " '(34.9513, -92.3809)',\n",
       " 'nan',\n",
       " '(32.799, -86.8073)',\n",
       " '(34.9513, -92.3809)',\n",
       " 'nan',\n",
       " '(61.385, -152.2683)',\n",
       " '(34.9513, -92.3809)',\n",
       " '(61.385, -152.2683)',\n",
       " '(32.799, -86.8073)',\n",
       " 'nan',\n",
       " 'nan',\n",
       " 'nan',\n",
       " '(34.9513, -92.3809)',\n",
       " 'nan',\n",
       " '(61.385, -152.2683)',\n",
       " '(32.799, -86.8073)',\n",
       " 'nan',\n",
       " 'nan',\n",
       " '(34.9513, -92.3809)',\n",
       " '(61.385, -152.2683)',\n",
       " 'nan',\n",
       " 'nan',\n",
       " '(32.799, -86.8073)',\n",
       " 'nan',\n",
       " '(32.799, -86.8073)',\n",
       " 'nan',\n",
       " 'nan',\n",
       " '(32.799, -86.8073)',\n",
       " '(34.9513, -92.3809)',\n",
       " '(61.385, -152.2683)',\n",
       " 'nan',\n",
       " 'nan',\n",
       " '(34.9513, -92.3809)',\n",
       " 'nan',\n",
       " '(34.9513, -92.3809)',\n",
       " '(61.385, -152.2683)',\n",
       " '(61.385, -152.2683)',\n",
       " '(34.9513, -92.3809)',\n",
       " '(32.799, -86.8073)',\n",
       " '(32.799, -86.8073)',\n",
       " 'nan',\n",
       " '(34.9513, -92.3809)',\n",
       " 'nan',\n",
       " 'nan',\n",
       " 'nan',\n",
       " '(34.9513, -92.3809)',\n",
       " '(32.799, -86.8073)',\n",
       " '(32.799, -86.8073)',\n",
       " 'nan',\n",
       " 'nan',\n",
       " '(32.799, -86.8073)',\n",
       " 'nan',\n",
       " 'nan',\n",
       " 'nan',\n",
       " '(61.385, -152.2683)',\n",
       " '(32.799, -86.8073)',\n",
       " '(32.799, -86.8073)',\n",
       " 'nan',\n",
       " 'nan',\n",
       " '(32.799, -86.8073)',\n",
       " '(32.799, -86.8073)',\n",
       " 'nan',\n",
       " 'nan',\n",
       " 'nan',\n",
       " '(61.385, -152.2683)',\n",
       " '(32.799, -86.8073)',\n",
       " 'nan',\n",
       " 'nan',\n",
       " '(32.799, -86.8073)',\n",
       " '(32.799, -86.8073)',\n",
       " 'nan',\n",
       " '(32.799, -86.8073)',\n",
       " 'nan',\n",
       " '(34.9513, -92.3809)',\n",
       " '(32.799, -86.8073)',\n",
       " 'nan',\n",
       " 'nan',\n",
       " '(34.9513, -92.3809)',\n",
       " 'nan',\n",
       " 'nan',\n",
       " '(32.799, -86.8073)',\n",
       " '(34.9513, -92.3809)',\n",
       " 'nan',\n",
       " 'nan',\n",
       " '(34.9513, -92.3809)',\n",
       " '(32.799, -86.8073)',\n",
       " 'nan',\n",
       " 'nan',\n",
       " 'nan',\n",
       " '(32.799, -86.8073)',\n",
       " '(61.385, -152.2683)',\n",
       " '(32.799, -86.8073)',\n",
       " 'nan',\n",
       " 'nan',\n",
       " 'nan',\n",
       " 'nan',\n",
       " 'nan',\n",
       " '(34.9513, -92.3809)',\n",
       " 'nan',\n",
       " 'nan',\n",
       " '(34.9513, -92.3809)',\n",
       " 'nan',\n",
       " 'nan',\n",
       " '(32.799, -86.8073)',\n",
       " 'nan',\n",
       " 'nan',\n",
       " '(32.799, -86.8073)',\n",
       " 'nan',\n",
       " '(34.9513, -92.3809)',\n",
       " '(34.9513, -92.3809)',\n",
       " 'nan',\n",
       " 'nan',\n",
       " 'nan',\n",
       " '(32.799, -86.8073)',\n",
       " 'nan',\n",
       " 'nan',\n",
       " '(34.9513, -92.3809)',\n",
       " '(34.9513, -92.3809)',\n",
       " '(61.385, -152.2683)',\n",
       " 'nan',\n",
       " 'nan',\n",
       " 'nan',\n",
       " '(61.385, -152.2683)',\n",
       " '(61.385, -152.2683)',\n",
       " '(32.799, -86.8073)',\n",
       " '(32.799, -86.8073)',\n",
       " 'nan',\n",
       " 'nan',\n",
       " '(32.799, -86.8073)',\n",
       " 'nan',\n",
       " '(34.9513, -92.3809)',\n",
       " 'nan',\n",
       " 'nan',\n",
       " 'nan',\n",
       " 'nan',\n",
       " '(61.385, -152.2683)',\n",
       " '(32.799, -86.8073)',\n",
       " 'nan',\n",
       " 'nan',\n",
       " 'nan',\n",
       " '(32.799, -86.8073)',\n",
       " '(34.9513, -92.3809)',\n",
       " 'nan',\n",
       " 'nan',\n",
       " 'nan',\n",
       " 'nan',\n",
       " 'nan',\n",
       " '(32.799, -86.8073)',\n",
       " '(34.9513, -92.3809)',\n",
       " '(61.385, -152.2683)',\n",
       " '(61.385, -152.2683)',\n",
       " 'nan',\n",
       " 'nan',\n",
       " '(34.9513, -92.3809)',\n",
       " '(61.385, -152.2683)',\n",
       " '(32.799, -86.8073)',\n",
       " '(61.385, -152.2683)',\n",
       " 'nan',\n",
       " 'nan',\n",
       " '(34.9513, -92.3809)',\n",
       " 'nan',\n",
       " '(61.385, -152.2683)',\n",
       " 'nan',\n",
       " '(61.385, -152.2683)',\n",
       " '(34.9513, -92.3809)',\n",
       " '(61.385, -152.2683)',\n",
       " '(32.799, -86.8073)',\n",
       " '(34.9513, -92.3809)',\n",
       " 'nan',\n",
       " '(32.799, -86.8073)',\n",
       " 'nan',\n",
       " '(61.385, -152.2683)',\n",
       " 'nan',\n",
       " 'nan',\n",
       " 'nan',\n",
       " 'nan',\n",
       " 'nan',\n",
       " 'nan',\n",
       " 'nan',\n",
       " 'nan',\n",
       " 'nan',\n",
       " 'nan',\n",
       " 'nan',\n",
       " 'nan',\n",
       " '(61.385, -152.2683)',\n",
       " 'nan',\n",
       " '(34.9513, -92.3809)',\n",
       " 'nan',\n",
       " '(61.385, -152.2683)',\n",
       " '(32.799, -86.8073)',\n",
       " '(61.385, -152.2683)',\n",
       " '(61.385, -152.2683)',\n",
       " 'nan',\n",
       " '(34.9513, -92.3809)',\n",
       " '(32.799, -86.8073)',\n",
       " '(61.385, -152.2683)',\n",
       " '(32.799, -86.8073)',\n",
       " 'nan',\n",
       " '(34.9513, -92.3809)',\n",
       " 'nan',\n",
       " '(61.385, -152.2683)',\n",
       " '(34.9513, -92.3809)',\n",
       " '(34.9513, -92.3809)',\n",
       " 'nan',\n",
       " '(61.385, -152.2683)',\n",
       " 'nan',\n",
       " '(61.385, -152.2683)',\n",
       " 'nan',\n",
       " 'nan',\n",
       " 'nan',\n",
       " 'nan',\n",
       " '(32.799, -86.8073)',\n",
       " 'nan',\n",
       " '(32.799, -86.8073)',\n",
       " '(32.799, -86.8073)',\n",
       " '(32.799, -86.8073)',\n",
       " '(61.385, -152.2683)',\n",
       " 'nan',\n",
       " '(34.9513, -92.3809)',\n",
       " 'nan',\n",
       " '(61.385, -152.2683)',\n",
       " 'nan',\n",
       " 'nan',\n",
       " '(32.799, -86.8073)',\n",
       " '(32.799, -86.8073)',\n",
       " 'nan',\n",
       " '(32.799, -86.8073)',\n",
       " '(61.385, -152.2683)',\n",
       " '(34.9513, -92.3809)',\n",
       " 'nan',\n",
       " 'nan',\n",
       " '(32.799, -86.8073)',\n",
       " '(34.9513, -92.3809)',\n",
       " 'nan',\n",
       " '(32.799, -86.8073)',\n",
       " 'nan',\n",
       " '(32.799, -86.8073)',\n",
       " '(32.799, -86.8073)',\n",
       " 'nan',\n",
       " '(32.799, -86.8073)',\n",
       " 'nan',\n",
       " '(32.799, -86.8073)',\n",
       " 'nan',\n",
       " 'nan',\n",
       " '(32.799, -86.8073)',\n",
       " 'nan',\n",
       " 'nan',\n",
       " '(34.9513, -92.3809)',\n",
       " 'nan',\n",
       " '(61.385, -152.2683)',\n",
       " 'nan',\n",
       " 'nan',\n",
       " 'nan',\n",
       " '(61.385, -152.2683)',\n",
       " 'nan',\n",
       " '(61.385, -152.2683)',\n",
       " 'nan',\n",
       " '(32.799, -86.8073)',\n",
       " 'nan',\n",
       " 'nan',\n",
       " 'nan',\n",
       " 'nan',\n",
       " 'nan',\n",
       " '(61.385, -152.2683)',\n",
       " 'nan',\n",
       " '(34.9513, -92.3809)',\n",
       " '(34.9513, -92.3809)',\n",
       " 'nan',\n",
       " '(34.9513, -92.3809)',\n",
       " '(32.799, -86.8073)',\n",
       " '(32.799, -86.8073)',\n",
       " '(34.9513, -92.3809)',\n",
       " 'nan',\n",
       " '(32.799, -86.8073)',\n",
       " '(32.799, -86.8073)',\n",
       " 'nan',\n",
       " '(32.799, -86.8073)',\n",
       " '(32.799, -86.8073)',\n",
       " '(32.799, -86.8073)',\n",
       " 'nan',\n",
       " '(32.799, -86.8073)',\n",
       " '(34.9513, -92.3809)',\n",
       " '(61.385, -152.2683)',\n",
       " 'nan',\n",
       " '(32.799, -86.8073)',\n",
       " '(34.9513, -92.3809)',\n",
       " '(32.799, -86.8073)',\n",
       " 'nan',\n",
       " 'nan',\n",
       " 'nan',\n",
       " 'nan',\n",
       " '(32.799, -86.8073)',\n",
       " '(34.9513, -92.3809)',\n",
       " '(32.799, -86.8073)',\n",
       " '(34.9513, -92.3809)',\n",
       " 'nan',\n",
       " 'nan',\n",
       " 'nan',\n",
       " '(32.799, -86.8073)',\n",
       " 'nan',\n",
       " 'nan',\n",
       " '(61.385, -152.2683)',\n",
       " 'nan',\n",
       " 'nan',\n",
       " 'nan',\n",
       " '(32.799, -86.8073)',\n",
       " '(61.385, -152.2683)',\n",
       " 'nan',\n",
       " '(61.385, -152.2683)',\n",
       " 'nan',\n",
       " '(32.799, -86.8073)',\n",
       " '(34.9513, -92.3809)',\n",
       " 'nan',\n",
       " '(34.9513, -92.3809)',\n",
       " 'nan',\n",
       " '(61.385, -152.2683)',\n",
       " '(34.9513, -92.3809)',\n",
       " 'nan',\n",
       " '(34.9513, -92.3809)',\n",
       " 'nan',\n",
       " '(34.9513, -92.3809)',\n",
       " '(61.385, -152.2683)',\n",
       " '(34.9513, -92.3809)',\n",
       " 'nan',\n",
       " '(61.385, -152.2683)',\n",
       " '(32.799, -86.8073)',\n",
       " 'nan',\n",
       " '(34.9513, -92.3809)',\n",
       " 'nan',\n",
       " 'nan',\n",
       " '(32.799, -86.8073)',\n",
       " 'nan',\n",
       " '(61.385, -152.2683)',\n",
       " '(61.385, -152.2683)',\n",
       " '(32.799, -86.8073)',\n",
       " '(32.799, -86.8073)',\n",
       " '(61.385, -152.2683)',\n",
       " '(34.9513, -92.3809)',\n",
       " 'nan',\n",
       " 'nan',\n",
       " '(61.385, -152.2683)',\n",
       " '(34.9513, -92.3809)',\n",
       " 'nan',\n",
       " 'nan',\n",
       " '(32.799, -86.8073)',\n",
       " 'nan',\n",
       " '(32.799, -86.8073)',\n",
       " '(34.9513, -92.3809)',\n",
       " 'nan',\n",
       " 'nan',\n",
       " '(32.799, -86.8073)',\n",
       " '(32.799, -86.8073)',\n",
       " 'nan',\n",
       " 'nan',\n",
       " '(61.385, -152.2683)',\n",
       " 'nan',\n",
       " '(34.9513, -92.3809)',\n",
       " '(61.385, -152.2683)',\n",
       " 'nan',\n",
       " 'nan',\n",
       " 'nan',\n",
       " '(34.9513, -92.3809)',\n",
       " 'nan',\n",
       " 'nan',\n",
       " '(32.799, -86.8073)',\n",
       " 'nan',\n",
       " 'nan',\n",
       " 'nan',\n",
       " '(32.799, -86.8073)',\n",
       " '(32.799, -86.8073)',\n",
       " 'nan',\n",
       " '(61.385, -152.2683)',\n",
       " '(32.799, -86.8073)',\n",
       " '(34.9513, -92.3809)',\n",
       " 'nan',\n",
       " 'nan',\n",
       " '(32.799, -86.8073)',\n",
       " 'nan',\n",
       " '(32.799, -86.8073)',\n",
       " '(32.799, -86.8073)',\n",
       " '(61.385, -152.2683)',\n",
       " '(32.799, -86.8073)',\n",
       " 'nan',\n",
       " 'nan',\n",
       " 'nan',\n",
       " 'nan',\n",
       " 'nan',\n",
       " 'nan',\n",
       " '(61.385, -152.2683)',\n",
       " '(34.9513, -92.3809)',\n",
       " 'nan',\n",
       " '(32.799, -86.8073)',\n",
       " '(32.799, -86.8073)',\n",
       " 'nan',\n",
       " 'nan',\n",
       " '(61.385, -152.2683)',\n",
       " 'nan',\n",
       " 'nan',\n",
       " 'nan',\n",
       " 'nan',\n",
       " '(32.799, -86.8073)',\n",
       " 'nan',\n",
       " 'nan',\n",
       " 'nan',\n",
       " '(34.9513, -92.3809)',\n",
       " '(34.9513, -92.3809)',\n",
       " 'nan',\n",
       " '(61.385, -152.2683)',\n",
       " '(34.9513, -92.3809)',\n",
       " 'nan',\n",
       " 'nan',\n",
       " '(32.799, -86.8073)',\n",
       " '(61.385, -152.2683)',\n",
       " '(61.385, -152.2683)',\n",
       " '(32.799, -86.8073)',\n",
       " 'nan',\n",
       " 'nan',\n",
       " 'nan',\n",
       " 'nan',\n",
       " 'nan',\n",
       " '(32.799, -86.8073)',\n",
       " 'nan',\n",
       " 'nan',\n",
       " '(34.9513, -92.3809)',\n",
       " '(34.9513, -92.3809)',\n",
       " '(34.9513, -92.3809)',\n",
       " 'nan',\n",
       " 'nan',\n",
       " 'nan',\n",
       " 'nan',\n",
       " '(34.9513, -92.3809)',\n",
       " '(32.799, -86.8073)',\n",
       " '(32.799, -86.8073)',\n",
       " '(32.799, -86.8073)',\n",
       " 'nan',\n",
       " 'nan',\n",
       " 'nan',\n",
       " 'nan',\n",
       " 'nan',\n",
       " '(32.799, -86.8073)',\n",
       " '(32.799, -86.8073)',\n",
       " '(32.799, -86.8073)',\n",
       " '(32.799, -86.8073)',\n",
       " 'nan',\n",
       " 'nan',\n",
       " '(61.385, -152.2683)',\n",
       " '(34.9513, -92.3809)',\n",
       " 'nan',\n",
       " 'nan',\n",
       " '(34.9513, -92.3809)',\n",
       " 'nan',\n",
       " 'nan',\n",
       " '(32.799, -86.8073)',\n",
       " '(34.9513, -92.3809)',\n",
       " 'nan',\n",
       " '(32.799, -86.8073)',\n",
       " '(34.9513, -92.3809)',\n",
       " 'nan',\n",
       " '(34.9513, -92.3809)',\n",
       " '(61.385, -152.2683)',\n",
       " 'nan',\n",
       " 'nan',\n",
       " 'nan',\n",
       " 'nan',\n",
       " '(34.9513, -92.3809)',\n",
       " 'nan',\n",
       " 'nan',\n",
       " '(34.9513, -92.3809)',\n",
       " 'nan',\n",
       " 'nan',\n",
       " 'nan',\n",
       " 'nan',\n",
       " '(34.9513, -92.3809)',\n",
       " 'nan',\n",
       " '(34.9513, -92.3809)',\n",
       " 'nan',\n",
       " 'nan',\n",
       " 'nan',\n",
       " 'nan',\n",
       " 'nan',\n",
       " 'nan',\n",
       " '(32.799, -86.8073)',\n",
       " 'nan',\n",
       " 'nan',\n",
       " '(34.9513, -92.3809)',\n",
       " 'nan',\n",
       " 'nan',\n",
       " 'nan',\n",
       " '(61.385, -152.2683)',\n",
       " 'nan',\n",
       " 'nan',\n",
       " '(61.385, -152.2683)',\n",
       " 'nan',\n",
       " 'nan',\n",
       " 'nan',\n",
       " 'nan',\n",
       " 'nan',\n",
       " '(34.9513, -92.3809)',\n",
       " 'nan',\n",
       " 'nan',\n",
       " 'nan',\n",
       " 'nan',\n",
       " 'nan',\n",
       " '(34.9513, -92.3809)',\n",
       " '(61.385, -152.2683)',\n",
       " 'nan',\n",
       " 'nan',\n",
       " '(61.385, -152.2683)',\n",
       " '(61.385, -152.2683)',\n",
       " '(34.9513, -92.3809)',\n",
       " '(32.799, -86.8073)',\n",
       " '(34.9513, -92.3809)',\n",
       " 'nan',\n",
       " 'nan',\n",
       " '(32.799, -86.8073)',\n",
       " '(32.799, -86.8073)',\n",
       " 'nan',\n",
       " '(34.9513, -92.3809)',\n",
       " 'nan',\n",
       " 'nan',\n",
       " 'nan',\n",
       " '(32.799, -86.8073)',\n",
       " 'nan',\n",
       " 'nan',\n",
       " '(32.799, -86.8073)',\n",
       " 'nan',\n",
       " 'nan',\n",
       " 'nan',\n",
       " 'nan',\n",
       " 'nan',\n",
       " '(32.799, -86.8073)',\n",
       " '(34.9513, -92.3809)',\n",
       " '(32.799, -86.8073)',\n",
       " '(34.9513, -92.3809)',\n",
       " 'nan',\n",
       " '(61.385, -152.2683)',\n",
       " '(61.385, -152.2683)',\n",
       " 'nan',\n",
       " '(34.9513, -92.3809)',\n",
       " 'nan',\n",
       " 'nan',\n",
       " 'nan',\n",
       " '(61.385, -152.2683)',\n",
       " '(32.799, -86.8073)',\n",
       " 'nan',\n",
       " 'nan',\n",
       " '(34.9513, -92.3809)',\n",
       " '(32.799, -86.8073)',\n",
       " '(34.9513, -92.3809)',\n",
       " 'nan',\n",
       " 'nan',\n",
       " 'nan',\n",
       " 'nan',\n",
       " '(34.9513, -92.3809)',\n",
       " 'nan',\n",
       " '(34.9513, -92.3809)',\n",
       " 'nan',\n",
       " '(34.9513, -92.3809)',\n",
       " 'nan',\n",
       " '(34.9513, -92.3809)',\n",
       " '(32.799, -86.8073)',\n",
       " '(61.385, -152.2683)',\n",
       " '(34.9513, -92.3809)',\n",
       " 'nan',\n",
       " '(32.799, -86.8073)',\n",
       " 'nan',\n",
       " 'nan',\n",
       " '(34.9513, -92.3809)',\n",
       " 'nan',\n",
       " ...]"
      ]
     },
     "execution_count": 11,
     "metadata": {},
     "output_type": "execute_result"
    }
   ],
   "source": [
    "data.iloc[5]"
   ]
  },
  {
   "cell_type": "code",
   "execution_count": null,
   "id": "85797c3a",
   "metadata": {},
   "outputs": [],
   "source": []
  }
 ],
 "metadata": {
  "kernelspec": {
   "display_name": "Python 3 (ipykernel)",
   "language": "python",
   "name": "python3"
  },
  "language_info": {
   "codemirror_mode": {
    "name": "ipython",
    "version": 3
   },
   "file_extension": ".py",
   "mimetype": "text/x-python",
   "name": "python",
   "nbconvert_exporter": "python",
   "pygments_lexer": "ipython3",
   "version": "3.7.13"
  }
 },
 "nbformat": 4,
 "nbformat_minor": 5
}
